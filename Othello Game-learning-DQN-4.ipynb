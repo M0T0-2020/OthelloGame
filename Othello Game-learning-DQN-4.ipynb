{
 "cells": [
  {
   "cell_type": "code",
   "execution_count": 32,
   "metadata": {},
   "outputs": [],
   "source": [
    "import os, sys\n",
    "\n",
    "import numpy as np\n",
    "import pandas as pd\n",
    "import time, random, math\n",
    "import copy, gc\n",
    "from collections import deque\n",
    "from tqdm import tqdm_notebook as tqdm\n",
    "import matplotlib.pyplot as plt\n",
    "import seaborn as sns\n",
    "\n",
    "from torch import nn\n",
    "import torch\n",
    "from torch.optim import Adam\n",
    "from torch.distributions import Categorical"
   ]
  },
  {
   "cell_type": "code",
   "execution_count": 33,
   "metadata": {},
   "outputs": [],
   "source": [
    "from method_1 import SearchAvailablePosition\n",
    "from method_2 import SearchAction\n",
    "from method_3 import ChangeBoard\n",
    "\n",
    "from Othello import Othello"
   ]
  },
  {
   "cell_type": "code",
   "execution_count": 3,
   "metadata": {},
   "outputs": [],
   "source": [
    "from RL.train_model2 import test, get_play_data, randomAgent, greedyAgent, getState\n",
    "#from RL.model import Model, basis_conv2d\n",
    "from RL.optimize_model import optimize_a2cmodel as optimize_model\n",
    "from RL.A2C_agent import agent as a2c_agent\n",
    "from RL.DQN_agent import agent as dqn_agent\n",
    "from RL.Replay_Memory import Replay_Memory\n",
    "from RL.noise import AdaptiveParamNoiseSpec"
   ]
  },
  {
   "cell_type": "code",
   "execution_count": 4,
   "metadata": {},
   "outputs": [
    {
     "data": {
      "text/plain": [
       "[<matplotlib.lines.Line2D at 0x12bd94b38>]"
      ]
     },
     "execution_count": 4,
     "metadata": {},
     "output_type": "execute_result"
    },
    {
     "data": {
      "image/png": "[encoded data removed]",
      "text/plain": [
       "<Figure size 432x288 with 1 Axes>"
      ]
     },
     "metadata": {
      "needs_background": "light"
     },
     "output_type": "display_data"
    }
   ],
   "source": [
    "x = np.arange(0,800,1)\n",
    "eps_decay=200\n",
    "plt.plot(0.1 + (0.7 - 0.1) *  np.exp(-1. * x / eps_decay))"
   ]
  },
  {
   "cell_type": "code",
   "execution_count": 5,
   "metadata": {},
   "outputs": [],
   "source": [
    "win_1 = []\n",
    "win_2 = []\n",
    "l=[]\n",
    "noise = AdaptiveParamNoiseSpec(initial_stddev=0.5)\n",
    "dqn_1 = dqn_agent(input_dim=3, lam=0.8, gamma=.95, lr=1e-4, noise=noise, eps_decay=200)\n",
    "#param = torch.load('dqn_param2.pt')\n",
    "#dqn_1.policy_model.load_state_dict(param)\n",
    "#dqn_2 = dqn_agent(input_dim=3, lam=0.6, gamma=.9, lr=1e-4)\n",
    "random_agent = randomAgent()\n",
    "greedy_agent = greedyAgent()\n",
    "memory = Replay_Memory(100)"
   ]
  },
  {
   "cell_type": "code",
   "execution_count": 6,
   "metadata": {
    "scrolled": true
   },
   "outputs": [
    {
     "data": {
      "application/vnd.jupyter.widget-view+json": {
       "model_id": "9bb5625e37bb48ef996607dd73b2c2fd",
       "version_major": 2,
       "version_minor": 0
      },
      "text/plain": [
       "HBox(children=(IntProgress(value=0, max=2), HTML(value='')))"
      ]
     },
     "metadata": {},
     "output_type": "display_data"
    },
    {
     "name": "stderr",
     "output_type": "stream",
     "text": [
      "/Users/kanoumotoharu/Desktop/プログラミング/pygame/OthelloGame/RL/noise.py:80: RuntimeWarning: overflow encountered in square\n",
      "  mean_diff = np.mean(diff**2, axis=0)\n"
     ]
    },
    {
     "name": "stdout",
     "output_type": "stream",
     "text": [
      "\n"
     ]
    }
   ],
   "source": [
    "for i in tqdm(range(2)):\n",
    "    if i%8==0:\n",
    "        dqn_2 = copy.deepcopy(dqn_1)\n",
    "    for _ in range(1):\n",
    "        tmp_w_1 = 0\n",
    "        tmp_w_2 = 0\n",
    "        \n",
    "        agent_2 = np.random.choice([dqn_2, greedy_agent, random_agent], p=[0.5,0.25,0.25])\n",
    "        data_1, data_2 = get_play_data(dqn_1 , agent_2)\n",
    "        \n",
    "        #data_1, data_2 = get_play_data(dqn_1, dqn_2)\n",
    "        \n",
    "        memory.push(data_1)\n",
    "        memory.push(data_2)\n",
    "        tmp_w_1+=float(data_1['rewards'][0])\n",
    "        tmp_w_2+=float(data_2['rewards'][0])\n",
    "        \n",
    "        data_2, data_1 = get_play_data(dqn_2 , dqn_1)\n",
    "        memory.push(data_1)\n",
    "        memory.push(data_2)\n",
    "        tmp_w_1+=float(data_1['rewards'][0])\n",
    "        tmp_w_2+=float(data_2['rewards'][0])\n",
    "        gc.collect()\n",
    "        \n",
    "        \n",
    "    win_1.append(tmp_w_1)    \n",
    "    win_2.append(tmp_w_2)    \n",
    "    dqn_1.optimize_model_withNoise(memory)"
   ]
  },
  {
   "cell_type": "code",
   "execution_count": 7,
   "metadata": {},
   "outputs": [],
   "source": [
    "#torch.save(dqn_1.policy_model.state_dict(), 'dqn_param3.pt')"
   ]
  },
  {
   "cell_type": "code",
   "execution_count": 8,
   "metadata": {},
   "outputs": [
    {
     "data": {
      "image/png": "[encoded data removed]",
      "text/plain": [
       "<Figure size 432x288 with 1 Axes>"
      ]
     },
     "metadata": {
      "needs_background": "light"
     },
     "output_type": "display_data"
    }
   ],
   "source": [
    "win_1_df = pd.DataFrame(win_1).rolling(5,min_periods=1).mean()\n",
    "plt.plot(win_1_df, label='win_1')\n",
    "win_2_df = pd.DataFrame(win_2).rolling(5,min_periods=1).mean()\n",
    "plt.plot(win_2_df, label='win_2')\n",
    "plt.legend()\n",
    "plt.show()"
   ]
  },
  {
   "cell_type": "code",
   "execution_count": 9,
   "metadata": {},
   "outputs": [
    {
     "data": {
      "image/png": "[encoded data removed]",
      "text/plain": [
       "<Figure size 432x288 with 1 Axes>"
      ]
     },
     "metadata": {
      "needs_background": "light"
     },
     "output_type": "display_data"
    }
   ],
   "source": [
    "loss_df = pd.DataFrame(dqn_1.loss_1_list).rolling(5,min_periods=1).mean()\n",
    "plt.plot(loss_df)\n",
    "plt.show()"
   ]
  },
  {
   "cell_type": "code",
   "execution_count": 10,
   "metadata": {},
   "outputs": [],
   "source": [
    "s = torch.cat([transaction['states'] for transaction in list(memory.memory)[1:2]], dim=0)\n",
    "out = dqn_1.policy_model(s)\n",
    "policy = out[\"policy\"]"
   ]
  },
  {
   "cell_type": "code",
   "execution_count": null,
   "metadata": {},
   "outputs": [],
   "source": [
    "for idx in range(10):\n",
    "    plt.figure(figsize=(50,10))\n",
    "    plt.subplot(1,4,1)\n",
    "    x = s[idx][0]+2*s[idx][1]\n",
    "    sns.heatmap((x).detach().numpy().astype(int), annot=True, cmap='coolwarm')\n",
    "\n",
    "    plt.subplot(1,4,2)\n",
    "    sns.heatmap((s[idx][2]).detach().numpy().astype(int), annot=True, cmap='coolwarm')\n",
    "\n",
    "    plt.subplot(1,4,3)\n",
    "    #一番ひっくり返エセル箇所が大きいところのattention をみる\n",
    "    #show_postion = s[idx][2].flatten().detach().numpy().argsort()[-1]\n",
    "    #a = out['attention'][idx][show_postion].reshape(8,8).detach().numpy()\n",
    "    \n",
    "    #attention の合計をみてみる\n",
    "    a = (nn.Softmax(0)(sum([v for v in out['attention'][idx]]))).reshape(8,8).detach().numpy()\n",
    "    \n",
    "    sns.heatmap(a, cmap='coolwarm', annot=True)\n",
    "\n",
    "    plt.subplot(1,4,4)\n",
    "    p=nn.Softmax(0)(policy[idx]).reshape(8,8).detach().numpy()\n",
    "    sns.heatmap(p, annot=True, cmap='coolwarm')\n",
    "    \n",
    "    plt.show()"
   ]
  },
  {
   "cell_type": "code",
   "execution_count": null,
   "metadata": {
    "scrolled": true
   },
   "outputs": [],
   "source": [
    "sns.displot(s[:,2,:,:].flatten(1).gather(1, policy.argsort(1))[:,-1].detach().numpy().flatten())\n",
    "plt.show()"
   ]
  },
  {
   "cell_type": "code",
   "execution_count": null,
   "metadata": {},
   "outputs": [],
   "source": [
    "param = torch.load('dqn_param3.pt')\n",
    "dqn_1.policy_model.load_state_dict(param)"
   ]
  },
  {
   "cell_type": "code",
   "execution_count": null,
   "metadata": {},
   "outputs": [],
   "source": [
    "othello = Othello()\n",
    "random_agent = randomAgent()\n",
    "greedy_agent = greedyAgent()\n",
    "w_1=0\n",
    "w_2=0\n",
    "draw=0"
   ]
  },
  {
   "cell_type": "code",
   "execution_count": null,
   "metadata": {},
   "outputs": [],
   "source": [
    "for _ in tqdm(range(100)):\n",
    "    board, changeable_Pos, Position_Row, Position_Col, Change_Position, done = othello.make()\n",
    "    while not done:\n",
    "        if othello.color==1:\n",
    "            setrow, setcol = dqn_1.take_determ_action(board, changeable_Pos, Position_Row, Position_Col, Change_Position)\n",
    "        else:\n",
    "            agent_tmp = random.choice([greedy_agent, random_agent])\n",
    "            setrow, setcol = agent_tmp.take_action(board, changeable_Pos, Position_Row, Position_Col, Change_Position)\n",
    "        board, changeable_Pos, Position_Row, Position_Col, Change_Position, done = othello.step(setrow, setcol)\n",
    "        if done:\n",
    "            if len(board[board==1])>len(board[board==2]):\n",
    "                w_1+=1\n",
    "            elif len(board[board==1])<len(board[board==2]):\n",
    "                w_2+=1\n",
    "            else:\n",
    "                draw+=1"
   ]
  },
  {
   "cell_type": "code",
   "execution_count": null,
   "metadata": {},
   "outputs": [],
   "source": [
    "print(w_1,w_2,draw)"
   ]
  },
  {
   "cell_type": "code",
   "execution_count": null,
   "metadata": {},
   "outputs": [],
   "source": [
    "othello = Othello()\n",
    "\n",
    "w_1=0\n",
    "w_2=0\n",
    "draw=0"
   ]
  },
  {
   "cell_type": "code",
   "execution_count": null,
   "metadata": {
    "scrolled": true
   },
   "outputs": [],
   "source": [
    "for _ in tqdm(range(100)):\n",
    "    board, changeable_Pos, Position_Row, Position_Col, Change_Position, done = othello.make()\n",
    "    while not done:\n",
    "        if othello.color==1:\n",
    "            agent_tmp = random.choice([greedy_agent, random_agent])\n",
    "            setrow, setcol = agent_tmp.take_action(board, changeable_Pos, Position_Row, Position_Col, Change_Position)\n",
    "        else:\n",
    "            setrow, setcol = dqn_1.take_determ_action(board, changeable_Pos, Position_Row, Position_Col, Change_Position)\n",
    "        board, changeable_Pos, Position_Row, Position_Col, Change_Position, done = othello.step(setrow, setcol)\n",
    "        if done:\n",
    "            if len(board[board==1])>len(board[board==2]):\n",
    "                w_1+=1\n",
    "            elif len(board[board==1])<len(board[board==2]):\n",
    "                w_2+=1\n",
    "            else:\n",
    "                draw+=1"
   ]
  },
  {
   "cell_type": "code",
   "execution_count": null,
   "metadata": {},
   "outputs": [],
   "source": [
    "print(w_1,w_2,draw)"
   ]
  },
  {
   "cell_type": "code",
   "execution_count": null,
   "metadata": {},
   "outputs": [],
   "source": []
  }
 ],
 "metadata": {
  "kernelspec": {
   "display_name": "Python 3",
   "language": "python",
   "name": "python3"
  },
  "language_info": {
   "codemirror_mode": {
    "name": "ipython",
    "version": 3
   },
   "file_extension": ".py",
   "mimetype": "text/x-python",
   "name": "python",
   "nbconvert_exporter": "python",
   "pygments_lexer": "ipython3",
   "version": "3.6.5"
  }
 },
 "nbformat": 4,
 "nbformat_minor": 2
}
