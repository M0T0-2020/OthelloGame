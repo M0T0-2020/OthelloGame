{
 "cells": [
  {
   "cell_type": "code",
   "execution_count": 1,
   "metadata": {},
   "outputs": [],
   "source": [
    "import os, sys\n",
    "\n",
    "import numpy as np\n",
    "import time\n",
    "import copy\n",
    "from tqdm import tqdm_notebook as tqdm\n",
    "\n",
    "import matplotlib.pyplot as plt\n",
    "import seaborn as sns\n",
    "\n",
    "from torch import nn\n",
    "import torch\n",
    "from torch.optim import Adam\n",
    "from torch.distributions import Categorical"
   ]
  },
  {
   "cell_type": "code",
   "execution_count": 2,
   "metadata": {},
   "outputs": [],
   "source": [
    "from method_1 import SearchAvailablePosition\n",
    "from method_2 import SearchAction\n",
    "from method_3 import ChangeBoard\n",
    "\n",
    "from Othello import Othello"
   ]
  },
  {
   "cell_type": "code",
   "execution_count": 3,
   "metadata": {},
   "outputs": [],
   "source": [
    "from RL.train_model import test, get_play_data, randomAgent, greedyAgent\n",
    "from RL.model import Model\n",
    "from RL.optimize_model import optimize_model\n",
    "from RL.Deep_agent import agent as deep_agent\n",
    "\n",
    "#test()"
   ]
  },
  {
   "cell_type": "code",
   "execution_count": 4,
   "metadata": {},
   "outputs": [
    {
     "name": "stdout",
     "output_type": "stream",
     "text": [
      "y   37.0\n",
      "x   4.0\n",
      "x.grad   8.0\n"
     ]
    }
   ],
   "source": [
    "x = torch.tensor(4.0, requires_grad = True)\n",
    "c = torch.tensor(8.0)\n",
    "b = 5.0\n",
    "y = c*x + b\n",
    "\n",
    "print(f\"y   {y}\")\n",
    "y.backward()\n",
    "print(f\"x   {x}\")\n",
    "print(f\"x.grad   {x.grad}\")"
   ]
  },
  {
   "cell_type": "code",
   "execution_count": 5,
   "metadata": {},
   "outputs": [
    {
     "name": "stdout",
     "output_type": "stream",
     "text": [
      "y   124.73444366455078\n",
      "x   tensor([[0.0823, 0.3339, 0.0634, 0.3556, 0.7898],\n",
      "        [0.3090, 0.5258, 0.0084, 0.0732, 0.8447],\n",
      "        [0.4150, 0.3501, 0.3760, 0.9143, 0.7752]], requires_grad=True)\n",
      "x.grad   tensor([[8., 8., 8., 8., 8.],\n",
      "        [8., 8., 8., 8., 8.],\n",
      "        [8., 8., 8., 8., 8.]])\n"
     ]
    }
   ],
   "source": [
    "x = torch.rand(size=(3,5), requires_grad = True)\n",
    "c = torch.tensor(8.0)\n",
    "b = 5.0\n",
    "y = c*x + b\n",
    "\n",
    "y = y.sum()\n",
    "\n",
    "print(f\"y   {y}\")\n",
    "y.backward()\n",
    "print(f\"x   {x}\")\n",
    "print(f\"x.grad   {x.grad}\")"
   ]
  },
  {
   "cell_type": "code",
   "execution_count": 6,
   "metadata": {},
   "outputs": [
    {
     "name": "stdout",
     "output_type": "stream",
     "text": [
      "y   30.98832893371582\n",
      "x   tensor([[0.7824, 0.7777],\n",
      "        [0.2455, 0.3103]], requires_grad=True)\n",
      "x.grad   tensor([[12.5182, 12.4438],\n",
      "        [ 3.9277,  4.9644]])\n",
      "tensor([[12.5182, 12.4438],\n",
      "        [ 3.9277,  4.9644]], grad_fn=<MulBackward0>)\n"
     ]
    }
   ],
   "source": [
    "x = torch.rand(size=(2,2), requires_grad = True)\n",
    "c = torch.tensor(8.0)\n",
    "b = 5.0\n",
    "y = c*(x**2) + b\n",
    "\n",
    "#x_0 = copy.deepcopy(x)\n",
    "#y*=x_0.detach()\n",
    "\n",
    "y = y.sum()\n",
    "\n",
    "print(f\"y   {y}\")\n",
    "y.backward()\n",
    "print(f\"x   {x}\")\n",
    "print(f\"x.grad   {x.grad}\")\n",
    "\n",
    "print(16*x)"
   ]
  },
  {
   "cell_type": "code",
   "execution_count": 7,
   "metadata": {},
   "outputs": [
    {
     "name": "stdout",
     "output_type": "stream",
     "text": [
      "tensor([[ True,  True,  True,  True, False, False,  True, False,  True,  True],\n",
      "        [ True, False, False,  True, False,  True,  True, False, False, False]])\n",
      "y   58.1185302734375\n",
      "x   tensor([[0.5387, 0.7532, 0.4246, 0.5066, 0.1656, 0.2122, 0.5147, 0.0804, 0.4883,\n",
      "         0.9797],\n",
      "        [0.9943, 0.2761, 0.3482, 0.5959, 0.1138, 0.9182, 0.6152, 0.0276, 0.0378,\n",
      "         0.3783]], requires_grad=True)\n",
      "x.grad   tensor([[0., 0., 0., 0., 8., 8., 0., 8., 0., 0.],\n",
      "        [0., 8., 8., 0., 8., 0., 0., 8., 8., 8.]])\n"
     ]
    }
   ],
   "source": [
    "x = torch.rand(size=(2,10), requires_grad = True)\n",
    "c = torch.tensor(8.0)\n",
    "b = 5.0\n",
    "y = c*x + b\n",
    "\n",
    "#これで勾配を消せる\n",
    "#y[:,-3:]=0\n",
    "y[x>0.4]=0\n",
    "print(x>0.4)\n",
    "\n",
    "y = y.sum()\n",
    "\n",
    "print(f\"y   {y}\")\n",
    "y.backward()\n",
    "print(f\"x   {x}\")\n",
    "print(f\"x.grad   {x.grad}\")"
   ]
  },
  {
   "cell_type": "code",
   "execution_count": 8,
   "metadata": {},
   "outputs": [],
   "source": [
    "#model = Model(3)\n",
    "#optimizer = Adam(model.parameters(), lr=1e-4)\n",
    "#batch_size=128\n",
    "\n",
    "#agent_1 = randomAgent()\n",
    "#agent_2 = greedyAgent()\n",
    "agent_1 = deep_agent(input_dim=3, lam=0.6, gamma=.8, lr=1e-4)\n",
    "agent_2 = deep_agent(input_dim=3, lam=0.6, gamma=.8, lr=1e-4)\n",
    "\n",
    "data_first, data_secound = get_play_data(agent_1, agent_2)"
   ]
  },
  {
   "cell_type": "code",
   "execution_count": 9,
   "metadata": {},
   "outputs": [],
   "source": [
    "l=[]\n",
    "random_agent = randomAgent()"
   ]
  },
  {
   "cell_type": "code",
   "execution_count": 11,
   "metadata": {
    "collapsed": true
   },
   "outputs": [
    {
     "data": {
      "application/vnd.jupyter.widget-view+json": {
       "model_id": "b6e394f3980640738246d6abd5469d47",
       "version_major": 2,
       "version_minor": 0
      },
      "text/plain": [
       "HBox(children=(IntProgress(value=0, max=1000), HTML(value='')))"
      ]
     },
     "metadata": {},
     "output_type": "display_data"
    },
    {
     "ename": "KeyboardInterrupt",
     "evalue": "",
     "output_type": "error",
     "traceback": [
      "\u001b[0;31m---------------------------------------------------------------------------\u001b[0m",
      "\u001b[0;31mKeyboardInterrupt\u001b[0m                         Traceback (most recent call last)",
      "\u001b[0;32m<ipython-input-11-2beb408dbebd>\u001b[0m in \u001b[0;36m<module>\u001b[0;34m\u001b[0m\n\u001b[1;32m      1\u001b[0m \u001b[0;32mfor\u001b[0m \u001b[0mi\u001b[0m \u001b[0;32min\u001b[0m \u001b[0mtqdm\u001b[0m\u001b[0;34m(\u001b[0m\u001b[0mrange\u001b[0m\u001b[0;34m(\u001b[0m\u001b[0;36m1000\u001b[0m\u001b[0;34m)\u001b[0m\u001b[0;34m)\u001b[0m\u001b[0;34m:\u001b[0m\u001b[0;34m\u001b[0m\u001b[0m\n\u001b[0;32m----> 2\u001b[0;31m     \u001b[0mtransactions\u001b[0m \u001b[0;34m=\u001b[0m \u001b[0;34m[\u001b[0m\u001b[0mget_play_data\u001b[0m\u001b[0;34m(\u001b[0m\u001b[0magent_1\u001b[0m \u001b[0;34m,\u001b[0m\u001b[0mrandom_agent\u001b[0m\u001b[0;34m)\u001b[0m\u001b[0;34m[\u001b[0m\u001b[0;36m0\u001b[0m\u001b[0;34m]\u001b[0m \u001b[0;32mfor\u001b[0m \u001b[0m_\u001b[0m \u001b[0;32min\u001b[0m \u001b[0mrange\u001b[0m\u001b[0;34m(\u001b[0m\u001b[0;36m3\u001b[0m\u001b[0;34m)\u001b[0m\u001b[0;34m]\u001b[0m\u001b[0;34m\u001b[0m\u001b[0m\n\u001b[0m\u001b[1;32m      3\u001b[0m     \u001b[0mpolicy_loss\u001b[0m\u001b[0;34m,\u001b[0m \u001b[0mvalue_loss\u001b[0m\u001b[0;34m,\u001b[0m \u001b[0mentropy\u001b[0m\u001b[0;34m,\u001b[0m \u001b[0mothello_loss\u001b[0m \u001b[0;34m=\u001b[0m \u001b[0moptimize_model\u001b[0m\u001b[0;34m(\u001b[0m\u001b[0magent_1\u001b[0m\u001b[0;34m.\u001b[0m\u001b[0mmodel\u001b[0m\u001b[0;34m,\u001b[0m \u001b[0mtransactions\u001b[0m\u001b[0;34m,\u001b[0m \u001b[0magent_1\u001b[0m\u001b[0;34m.\u001b[0m\u001b[0moptimizer\u001b[0m\u001b[0;34m)\u001b[0m\u001b[0;34m\u001b[0m\u001b[0m\n\u001b[1;32m      4\u001b[0m     l.append([\n\u001b[1;32m      5\u001b[0m         \u001b[0mpolicy_loss\u001b[0m\u001b[0;34m,\u001b[0m \u001b[0mvalue_loss\u001b[0m\u001b[0;34m,\u001b[0m \u001b[0mentropy\u001b[0m\u001b[0;34m,\u001b[0m \u001b[0mothello_loss\u001b[0m\u001b[0;34m\u001b[0m\u001b[0m\n",
      "\u001b[0;32m<ipython-input-11-2beb408dbebd>\u001b[0m in \u001b[0;36m<listcomp>\u001b[0;34m(.0)\u001b[0m\n\u001b[1;32m      1\u001b[0m \u001b[0;32mfor\u001b[0m \u001b[0mi\u001b[0m \u001b[0;32min\u001b[0m \u001b[0mtqdm\u001b[0m\u001b[0;34m(\u001b[0m\u001b[0mrange\u001b[0m\u001b[0;34m(\u001b[0m\u001b[0;36m1000\u001b[0m\u001b[0;34m)\u001b[0m\u001b[0;34m)\u001b[0m\u001b[0;34m:\u001b[0m\u001b[0;34m\u001b[0m\u001b[0m\n\u001b[0;32m----> 2\u001b[0;31m     \u001b[0mtransactions\u001b[0m \u001b[0;34m=\u001b[0m \u001b[0;34m[\u001b[0m\u001b[0mget_play_data\u001b[0m\u001b[0;34m(\u001b[0m\u001b[0magent_1\u001b[0m \u001b[0;34m,\u001b[0m\u001b[0mrandom_agent\u001b[0m\u001b[0;34m)\u001b[0m\u001b[0;34m[\u001b[0m\u001b[0;36m0\u001b[0m\u001b[0;34m]\u001b[0m \u001b[0;32mfor\u001b[0m \u001b[0m_\u001b[0m \u001b[0;32min\u001b[0m \u001b[0mrange\u001b[0m\u001b[0;34m(\u001b[0m\u001b[0;36m3\u001b[0m\u001b[0;34m)\u001b[0m\u001b[0;34m]\u001b[0m\u001b[0;34m\u001b[0m\u001b[0m\n\u001b[0m\u001b[1;32m      3\u001b[0m     \u001b[0mpolicy_loss\u001b[0m\u001b[0;34m,\u001b[0m \u001b[0mvalue_loss\u001b[0m\u001b[0;34m,\u001b[0m \u001b[0mentropy\u001b[0m\u001b[0;34m,\u001b[0m \u001b[0mothello_loss\u001b[0m \u001b[0;34m=\u001b[0m \u001b[0moptimize_model\u001b[0m\u001b[0;34m(\u001b[0m\u001b[0magent_1\u001b[0m\u001b[0;34m.\u001b[0m\u001b[0mmodel\u001b[0m\u001b[0;34m,\u001b[0m \u001b[0mtransactions\u001b[0m\u001b[0;34m,\u001b[0m \u001b[0magent_1\u001b[0m\u001b[0;34m.\u001b[0m\u001b[0moptimizer\u001b[0m\u001b[0;34m)\u001b[0m\u001b[0;34m\u001b[0m\u001b[0m\n\u001b[1;32m      4\u001b[0m     l.append([\n\u001b[1;32m      5\u001b[0m         \u001b[0mpolicy_loss\u001b[0m\u001b[0;34m,\u001b[0m \u001b[0mvalue_loss\u001b[0m\u001b[0;34m,\u001b[0m \u001b[0mentropy\u001b[0m\u001b[0;34m,\u001b[0m \u001b[0mothello_loss\u001b[0m\u001b[0;34m\u001b[0m\u001b[0m\n",
      "\u001b[0;32m~/Desktop/プログラミング/pygame/Othello Game/RL/train_model.py\u001b[0m in \u001b[0;36mget_play_data\u001b[0;34m(agent_1, agent_2)\u001b[0m\n\u001b[1;32m     70\u001b[0m \u001b[0;34m\u001b[0m\u001b[0m\n\u001b[1;32m     71\u001b[0m             \u001b[0msetrow\u001b[0m\u001b[0;34m,\u001b[0m \u001b[0msetcol\u001b[0m \u001b[0;34m=\u001b[0m \u001b[0magent_1\u001b[0m\u001b[0;34m.\u001b[0m\u001b[0mtake_action\u001b[0m\u001b[0;34m(\u001b[0m\u001b[0mboard\u001b[0m\u001b[0;34m,\u001b[0m \u001b[0mchangeable_Pos\u001b[0m\u001b[0;34m,\u001b[0m \u001b[0mPosition_Row\u001b[0m\u001b[0;34m,\u001b[0m \u001b[0mPosition_Col\u001b[0m\u001b[0;34m,\u001b[0m \u001b[0mChange_Position\u001b[0m\u001b[0;34m)\u001b[0m\u001b[0;34m\u001b[0m\u001b[0m\n\u001b[0;32m---> 72\u001b[0;31m             \u001b[0mboard\u001b[0m\u001b[0;34m,\u001b[0m \u001b[0mchangeable_Pos\u001b[0m\u001b[0;34m,\u001b[0m \u001b[0mPosition_Row\u001b[0m\u001b[0;34m,\u001b[0m \u001b[0mPosition_Col\u001b[0m\u001b[0;34m,\u001b[0m \u001b[0mChange_Position\u001b[0m\u001b[0;34m,\u001b[0m \u001b[0mdone\u001b[0m \u001b[0;34m=\u001b[0m \u001b[0mothello\u001b[0m\u001b[0;34m.\u001b[0m\u001b[0mstep\u001b[0m\u001b[0;34m(\u001b[0m\u001b[0msetrow\u001b[0m\u001b[0;34m,\u001b[0m \u001b[0msetcol\u001b[0m\u001b[0;34m)\u001b[0m\u001b[0;34m\u001b[0m\u001b[0m\n\u001b[0m\u001b[1;32m     73\u001b[0m \u001b[0;34m\u001b[0m\u001b[0m\n\u001b[1;32m     74\u001b[0m             \u001b[0mfirst_actions\u001b[0m\u001b[0;34m.\u001b[0m\u001b[0mappendleft\u001b[0m\u001b[0;34m(\u001b[0m\u001b[0;36m8\u001b[0m\u001b[0;34m*\u001b[0m\u001b[0msetrow\u001b[0m\u001b[0;34m+\u001b[0m\u001b[0msetcol\u001b[0m\u001b[0;34m)\u001b[0m\u001b[0;34m\u001b[0m\u001b[0m\n",
      "\u001b[0;32m~/Desktop/プログラミング/pygame/Othello Game/Othello.py\u001b[0m in \u001b[0;36mstep\u001b[0;34m(self, setrow, setcol)\u001b[0m\n\u001b[1;32m     86\u001b[0m \u001b[0;34m\u001b[0m\u001b[0m\n\u001b[1;32m     87\u001b[0m         \u001b[0mself\u001b[0m\u001b[0;34m.\u001b[0m\u001b[0mcolor\u001b[0m \u001b[0;34m=\u001b[0m \u001b[0mint\u001b[0m\u001b[0;34m(\u001b[0m\u001b[0;36m1\u001b[0m \u001b[0;34m+\u001b[0m \u001b[0mself\u001b[0m\u001b[0;34m.\u001b[0m\u001b[0mcolor\u001b[0m\u001b[0;34m%\u001b[0m\u001b[0;36m2\u001b[0m\u001b[0;34m)\u001b[0m\u001b[0;34m\u001b[0m\u001b[0m\n\u001b[0;32m---> 88\u001b[0;31m         \u001b[0mavailable_position\u001b[0m \u001b[0;34m=\u001b[0m \u001b[0mSearchAvailablePosition\u001b[0m\u001b[0;34m(\u001b[0m\u001b[0mself\u001b[0m\u001b[0;34m.\u001b[0m\u001b[0mboard\u001b[0m\u001b[0;34m,\u001b[0m \u001b[0mself\u001b[0m\u001b[0;34m.\u001b[0m\u001b[0mcolor\u001b[0m\u001b[0;34m)\u001b[0m\u001b[0;34m\u001b[0m\u001b[0m\n\u001b[0m\u001b[1;32m     89\u001b[0m         \u001b[0mself\u001b[0m\u001b[0;34m.\u001b[0m\u001b[0mPosition_Row\u001b[0m\u001b[0;34m,\u001b[0m \u001b[0mself\u001b[0m\u001b[0;34m.\u001b[0m\u001b[0mPosition_Col\u001b[0m\u001b[0;34m,\u001b[0m \u001b[0mself\u001b[0m\u001b[0;34m.\u001b[0m\u001b[0mChange_Position\u001b[0m \u001b[0;34m=\u001b[0m \u001b[0mSearchAction\u001b[0m\u001b[0;34m(\u001b[0m\u001b[0mself\u001b[0m\u001b[0;34m.\u001b[0m\u001b[0mboard\u001b[0m\u001b[0;34m,\u001b[0m \u001b[0mavailable_position\u001b[0m\u001b[0;34m,\u001b[0m \u001b[0mself\u001b[0m\u001b[0;34m.\u001b[0m\u001b[0mcolor\u001b[0m\u001b[0;34m)\u001b[0m\u001b[0;34m\u001b[0m\u001b[0m\n\u001b[1;32m     90\u001b[0m         \u001b[0mself\u001b[0m\u001b[0;34m.\u001b[0m\u001b[0mchangeable_Pos\u001b[0m \u001b[0;34m=\u001b[0m \u001b[0mnp\u001b[0m\u001b[0;34m.\u001b[0m\u001b[0mzeros\u001b[0m\u001b[0;34m(\u001b[0m\u001b[0;34m(\u001b[0m\u001b[0;36m8\u001b[0m\u001b[0;34m,\u001b[0m\u001b[0;36m8\u001b[0m\u001b[0;34m)\u001b[0m\u001b[0;34m,\u001b[0m\u001b[0mdtype\u001b[0m\u001b[0;34m=\u001b[0m\u001b[0mint\u001b[0m\u001b[0;34m)\u001b[0m\u001b[0;34m\u001b[0m\u001b[0m\n",
      "\u001b[0;32m~/Desktop/プログラミング/pygame/Othello Game/method_1.py\u001b[0m in \u001b[0;36mSearchAvailablePosition\u001b[0;34m(board, color)\u001b[0m\n\u001b[1;32m    104\u001b[0m \u001b[0;34m\u001b[0m\u001b[0m\n\u001b[1;32m    105\u001b[0m     \u001b[0;32mfor\u001b[0m \u001b[0mfunc\u001b[0m \u001b[0;32min\u001b[0m \u001b[0;34m[\u001b[0m\u001b[0msearchRight\u001b[0m\u001b[0;34m,\u001b[0m \u001b[0msearchLeft\u001b[0m\u001b[0;34m,\u001b[0m \u001b[0msearchUp\u001b[0m\u001b[0;34m,\u001b[0m \u001b[0msearchDown\u001b[0m\u001b[0;34m,\u001b[0m\u001b[0msearchUpRight\u001b[0m\u001b[0;34m,\u001b[0m \u001b[0msearchUpLeft\u001b[0m\u001b[0;34m,\u001b[0m \u001b[0msearchDownRight\u001b[0m\u001b[0;34m,\u001b[0m \u001b[0msearchDownLeft\u001b[0m\u001b[0;34m]\u001b[0m\u001b[0;34m:\u001b[0m\u001b[0;34m\u001b[0m\u001b[0m\n\u001b[0;32m--> 106\u001b[0;31m         \u001b[0mreturn_board\u001b[0m\u001b[0;34m+=\u001b[0m\u001b[0mfunc\u001b[0m\u001b[0;34m(\u001b[0m\u001b[0mboard_2\u001b[0m\u001b[0;34m.\u001b[0m\u001b[0mcopy\u001b[0m\u001b[0;34m(\u001b[0m\u001b[0;34m)\u001b[0m\u001b[0;34m,\u001b[0m \u001b[0mavailable_board\u001b[0m\u001b[0;34m)\u001b[0m\u001b[0;34m\u001b[0m\u001b[0m\n\u001b[0m\u001b[1;32m    107\u001b[0m     \u001b[0mreturn_board\u001b[0m\u001b[0;34m[\u001b[0m\u001b[0mreturn_board\u001b[0m\u001b[0;34m!=\u001b[0m\u001b[0;36m0\u001b[0m\u001b[0;34m]\u001b[0m\u001b[0;34m=\u001b[0m\u001b[0;36m1\u001b[0m\u001b[0;34m\u001b[0m\u001b[0m\n\u001b[1;32m    108\u001b[0m     \u001b[0;32mreturn\u001b[0m \u001b[0mreturn_board\u001b[0m\u001b[0;34m.\u001b[0m\u001b[0mastype\u001b[0m\u001b[0;34m(\u001b[0m\u001b[0mint\u001b[0m\u001b[0;34m)\u001b[0m\u001b[0;34m\u001b[0m\u001b[0m\n",
      "\u001b[0;32m~/Desktop/プログラミング/pygame/Othello Game/method_1.py\u001b[0m in \u001b[0;36msearchRight\u001b[0;34m(board, available_board)\u001b[0m\n\u001b[1;32m      6\u001b[0m     \u001b[0mboard\u001b[0m\u001b[0;34m[\u001b[0m\u001b[0;34m:\u001b[0m\u001b[0;34m,\u001b[0m\u001b[0;36m7\u001b[0m\u001b[0;34m]\u001b[0m\u001b[0;34m=\u001b[0m\u001b[0;36m0\u001b[0m\u001b[0;34m\u001b[0m\u001b[0m\n\u001b[1;32m      7\u001b[0m     \u001b[0;31m#右移動\u001b[0m\u001b[0;34m\u001b[0m\u001b[0;34m\u001b[0m\u001b[0m\n\u001b[0;32m----> 8\u001b[0;31m     \u001b[0mavailable_board_right\u001b[0m \u001b[0;34m=\u001b[0m \u001b[0mavailable_board\u001b[0m\u001b[0;34m*\u001b[0m\u001b[0mnp\u001b[0m\u001b[0;34m.\u001b[0m\u001b[0mroll\u001b[0m\u001b[0;34m(\u001b[0m\u001b[0mboard\u001b[0m\u001b[0;34m,\u001b[0m \u001b[0mshift\u001b[0m\u001b[0;34m=\u001b[0m\u001b[0;36m1\u001b[0m\u001b[0;34m,\u001b[0m  \u001b[0maxis\u001b[0m\u001b[0;34m=\u001b[0m\u001b[0;36m1\u001b[0m\u001b[0;34m)\u001b[0m\u001b[0;34m\u001b[0m\u001b[0m\n\u001b[0m\u001b[1;32m      9\u001b[0m     \u001b[0;32mreturn\u001b[0m \u001b[0mavailable_board_right\u001b[0m\u001b[0;34m\u001b[0m\u001b[0m\n\u001b[1;32m     10\u001b[0m \u001b[0;31m#左\u001b[0m\u001b[0;34m\u001b[0m\u001b[0;34m\u001b[0m\u001b[0m\n",
      "\u001b[0;32m<__array_function__ internals>\u001b[0m in \u001b[0;36mroll\u001b[0;34m(*args, **kwargs)\u001b[0m\n",
      "\u001b[0;32m/Library/Frameworks/Python.framework/Versions/3.6/lib/python3.6/site-packages/numpy/core/numeric.py\u001b[0m in \u001b[0;36mroll\u001b[0;34m(a, shift, axis)\u001b[0m\n\u001b[1;32m   1179\u001b[0m \u001b[0;34m\u001b[0m\u001b[0m\n\u001b[1;32m   1180\u001b[0m     \"\"\"\n\u001b[0;32m-> 1181\u001b[0;31m     \u001b[0ma\u001b[0m \u001b[0;34m=\u001b[0m \u001b[0masanyarray\u001b[0m\u001b[0;34m(\u001b[0m\u001b[0ma\u001b[0m\u001b[0;34m)\u001b[0m\u001b[0;34m\u001b[0m\u001b[0m\n\u001b[0m\u001b[1;32m   1182\u001b[0m     \u001b[0;32mif\u001b[0m \u001b[0maxis\u001b[0m \u001b[0;32mis\u001b[0m \u001b[0;32mNone\u001b[0m\u001b[0;34m:\u001b[0m\u001b[0;34m\u001b[0m\u001b[0m\n\u001b[1;32m   1183\u001b[0m         \u001b[0;32mreturn\u001b[0m \u001b[0mroll\u001b[0m\u001b[0;34m(\u001b[0m\u001b[0ma\u001b[0m\u001b[0;34m.\u001b[0m\u001b[0mravel\u001b[0m\u001b[0;34m(\u001b[0m\u001b[0;34m)\u001b[0m\u001b[0;34m,\u001b[0m \u001b[0mshift\u001b[0m\u001b[0;34m,\u001b[0m \u001b[0;36m0\u001b[0m\u001b[0;34m)\u001b[0m\u001b[0;34m.\u001b[0m\u001b[0mreshape\u001b[0m\u001b[0;34m(\u001b[0m\u001b[0ma\u001b[0m\u001b[0;34m.\u001b[0m\u001b[0mshape\u001b[0m\u001b[0;34m)\u001b[0m\u001b[0;34m\u001b[0m\u001b[0m\n",
      "\u001b[0;32m/Library/Frameworks/Python.framework/Versions/3.6/lib/python3.6/site-packages/numpy/core/_asarray.py\u001b[0m in \u001b[0;36masanyarray\u001b[0;34m(a, dtype, order)\u001b[0m\n\u001b[1;32m    136\u001b[0m \u001b[0;34m\u001b[0m\u001b[0m\n\u001b[1;32m    137\u001b[0m     \"\"\"\n\u001b[0;32m--> 138\u001b[0;31m     \u001b[0;32mreturn\u001b[0m \u001b[0marray\u001b[0m\u001b[0;34m(\u001b[0m\u001b[0ma\u001b[0m\u001b[0;34m,\u001b[0m \u001b[0mdtype\u001b[0m\u001b[0;34m,\u001b[0m \u001b[0mcopy\u001b[0m\u001b[0;34m=\u001b[0m\u001b[0;32mFalse\u001b[0m\u001b[0;34m,\u001b[0m \u001b[0morder\u001b[0m\u001b[0;34m=\u001b[0m\u001b[0morder\u001b[0m\u001b[0;34m,\u001b[0m \u001b[0msubok\u001b[0m\u001b[0;34m=\u001b[0m\u001b[0;32mTrue\u001b[0m\u001b[0;34m)\u001b[0m\u001b[0;34m\u001b[0m\u001b[0m\n\u001b[0m\u001b[1;32m    139\u001b[0m \u001b[0;34m\u001b[0m\u001b[0m\n\u001b[1;32m    140\u001b[0m \u001b[0;34m\u001b[0m\u001b[0m\n",
      "\u001b[0;31mKeyboardInterrupt\u001b[0m: "
     ]
    }
   ],
   "source": [
    "for i in tqdm(range(1000)):\n",
    "    transactions = [get_play_data(agent_1 ,random_agent)[0] for _ in range(3)]\n",
    "    policy_loss, value_loss, entropy, othello_loss = optimize_model(agent_1.model, transactions, agent_1.optimizer)\n",
    "    l.append([\n",
    "        policy_loss, value_loss, entropy, othello_loss\n",
    "    ])"
   ]
  },
  {
   "cell_type": "code",
   "execution_count": 12,
   "metadata": {},
   "outputs": [
    {
     "data": {
      "image/png": "[encoded data removed]",
      "text/plain": [
       "<Figure size 432x288 with 1 Axes>"
      ]
     },
     "metadata": {
      "needs_background": "light"
     },
     "output_type": "display_data"
    },
    {
     "data": {
      "image/png": "[encoded data removed]",
      "text/plain": [
       "<Figure size 432x288 with 1 Axes>"
      ]
     },
     "metadata": {
      "needs_background": "light"
     },
     "output_type": "display_data"
    },
    {
     "data": {
      "image/png": "[encoded data removed]",
      "text/plain": [
       "<Figure size 432x288 with 1 Axes>"
      ]
     },
     "metadata": {
      "needs_background": "light"
     },
     "output_type": "display_data"
    },
    {
     "data": {
      "image/png": "[encoded data removed]",
      "text/plain": [
       "<Figure size 432x288 with 1 Axes>"
      ]
     },
     "metadata": {
      "needs_background": "light"
     },
     "output_type": "display_data"
    }
   ],
   "source": [
    "l = np.array(l)\n",
    "plt.plot(l[:,0])\n",
    "plt.show()\n",
    "plt.plot(l[:,1])\n",
    "plt.show()\n",
    "plt.plot(l[:,2])\n",
    "plt.show()\n",
    "plt.plot(l[:,3])\n",
    "plt.show()"
   ]
  },
  {
   "cell_type": "code",
   "execution_count": 13,
   "metadata": {},
   "outputs": [
    {
     "data": {
      "text/plain": [
       "tensor([[ 0,  1,  2,  ..., 61, 62, 63],\n",
       "        [ 0,  1,  2,  ..., 61, 62, 44],\n",
       "        [ 0,  1,  2,  ..., 61, 23, 44],\n",
       "        ...,\n",
       "        [ 0,  1,  2,  ..., 25, 45, 29],\n",
       "        [ 0,  1,  2,  ..., 21, 18, 20],\n",
       "        [ 0,  1,  2,  ..., 43, 29, 20]])"
      ]
     },
     "execution_count": 13,
     "metadata": {},
     "output_type": "execute_result"
    }
   ],
   "source": [
    "torch.cat([agent_1.model(d['states'])[\"policy\"] for d in transactions], dim=0).argsort(1)"
   ]
  },
  {
   "cell_type": "code",
   "execution_count": 14,
   "metadata": {},
   "outputs": [],
   "source": [
    "s = torch.cat([transaction['states'] for transaction in transactions], dim=0)\n",
    "policy = agent_1.model(s)[\"policy\"]"
   ]
  },
  {
   "cell_type": "code",
   "execution_count": 15,
   "metadata": {},
   "outputs": [
    {
     "data": {
      "text/plain": [
       "tensor([[0.0156, 0.0156, 0.0156,  ..., 0.0156, 0.0156, 0.0156],\n",
       "        [0.0000, 0.0000, 0.0000,  ..., 0.0000, 0.0000, 0.0000],\n",
       "        [0.0000, 0.0000, 0.0000,  ..., 0.0000, 0.0000, 0.0000],\n",
       "        ...,\n",
       "        [0.0000, 0.0000, 0.0000,  ..., 0.0000, 0.0000, 0.0000],\n",
       "        [0.0000, 0.0000, 0.0000,  ..., 0.0000, 0.0000, 0.0000],\n",
       "        [0.0000, 0.0000, 0.0000,  ..., 0.0000, 0.0000, 0.0000]],\n",
       "       grad_fn=<DivBackward0>)"
      ]
     },
     "execution_count": 15,
     "metadata": {},
     "output_type": "execute_result"
    }
   ],
   "source": [
    "m = Categorical(probs=torch.nn.Softmax(1)(policy))\n",
    "m.probs"
   ]
  },
  {
   "cell_type": "code",
   "execution_count": 16,
   "metadata": {},
   "outputs": [
    {
     "data": {
      "text/plain": [
       "torch.Size([94])"
      ]
     },
     "execution_count": 16,
     "metadata": {},
     "output_type": "execute_result"
    }
   ],
   "source": [
    "m.sample().size()"
   ]
  },
  {
   "cell_type": "code",
   "execution_count": 17,
   "metadata": {},
   "outputs": [
    {
     "data": {
      "text/plain": [
       "tensor([[0.0156, 0.0156, 0.0156,  ..., 0.0156, 0.0156, 0.0156],\n",
       "        [0.0000, 0.0000, 0.0000,  ..., 0.0000, 0.0000, 1.0000],\n",
       "        [0.0000, 0.0000, 0.0000,  ..., 0.0000, 0.4722, 0.5278],\n",
       "        ...,\n",
       "        [0.0000, 0.0000, 0.0000,  ..., 0.2265, 0.2612, 0.3035],\n",
       "        [0.0000, 0.0000, 0.0000,  ..., 0.1992, 0.2115, 0.2451],\n",
       "        [0.0000, 0.0000, 0.0000,  ..., 0.2223, 0.2828, 0.3015]],\n",
       "       grad_fn=<GatherBackward>)"
      ]
     },
     "execution_count": 17,
     "metadata": {},
     "output_type": "execute_result"
    }
   ],
   "source": [
    "m.probs.gather(1, m.probs.argsort(1))"
   ]
  },
  {
   "cell_type": "code",
   "execution_count": 18,
   "metadata": {},
   "outputs": [
    {
     "data": {
      "text/plain": [
       "tensor([[-1.0000e+25, -1.0000e+25, -1.0000e+25,  ..., -1.0000e+25,\n",
       "         -1.0000e+25, -1.0000e+25],\n",
       "        [-1.0000e+25, -1.0000e+25, -1.0000e+25,  ..., -1.0000e+25,\n",
       "         -1.0000e+25, -4.2595e-03],\n",
       "        [-1.0000e+25, -1.0000e+25, -1.0000e+25,  ..., -1.0000e+25,\n",
       "         -1.1772e-01, -6.4007e-03],\n",
       "        ...,\n",
       "        [-1.0000e+25, -1.0000e+25, -1.0000e+25,  ..., -1.5653e-01,\n",
       "         -1.4199e-02,  1.3593e-01],\n",
       "        [-1.0000e+25, -1.0000e+25, -1.0000e+25,  ..., -6.0385e-03,\n",
       "          5.4016e-02,  2.0122e-01],\n",
       "        [-1.0000e+25, -1.0000e+25, -1.0000e+25,  ..., -1.0245e-01,\n",
       "          1.3802e-01,  2.0222e-01]], grad_fn=<GatherBackward>)"
      ]
     },
     "execution_count": 18,
     "metadata": {},
     "output_type": "execute_result"
    }
   ],
   "source": [
    "policy.gather(1, policy.argsort(1))[:,-5:]"
   ]
  },
  {
   "cell_type": "code",
   "execution_count": 19,
   "metadata": {},
   "outputs": [
    {
     "data": {
      "text/plain": [
       "(tensor(-1.0000e+25, grad_fn=<SelectBackward>),\n",
       " tensor(-1.0000e+25, grad_fn=<SelectBackward>))"
      ]
     },
     "execution_count": 19,
     "metadata": {},
     "output_type": "execute_result"
    }
   ],
   "source": [
    "policy[10][58], policy[10][0]"
   ]
  },
  {
   "cell_type": "code",
   "execution_count": 21,
   "metadata": {},
   "outputs": [
    {
     "name": "stdout",
     "output_type": "stream",
     "text": [
      "[[0.0, 0.0, 0.0, 0.0], [0.0, 0.0, 0.0, 9.0], [0.0, 0.0, 3.0, 6.0], [0.0, 2.0, 3.0, 3.0], [2.0, 4.0, 5.0, 3.0], [4.0, 4.0, 3.0, 3.0], [3.0, 5.0, 3.0, 4.0], [2.0, 4.0, 3.0, 5.0], [1.0, 1.0, 1.0, 5.0], [6.0, 4.0, 5.0, 1.0], [6.0, 4.0, 5.0, 1.0], [4.0, 5.0, 1.0, 1.0], [1.0, 5.0, 1.0, 2.0], [1.0, 2.0, 7.0, 4.0], [5.0, 3.0, 2.0, 4.0], [3.0, 4.0, 3.0, 1.0], [3.0, 2.0, 3.0, 2.0], [2.0, 3.0, 2.0, 2.0], [2.0, 3.0, 3.0, 2.0], [3.0, 3.0, 4.0, 1.0], [1.0, 4.0, 3.0, 3.0], [1.0, 1.0, 1.0, 3.0], [1.0, 1.0, 1.0, 3.0], [1.0, 4.0, 2.0, 2.0], [1.0, 2.0, 2.0, 2.0], [1.0, 2.0, 1.0, 1.0], [1.0, 2.0, 1.0, 1.0], [1.0, 2.0, 1.0, 1.0], [1.0, 1.0, 1.0, 2.0], [1.0, 1.0, 1.0, 1.0], [1.0, 1.0, 1.0, 1.0], [0.0, 0.0, 0.0, 0.0], [0.0, 0.0, 0.0, 4.0], [0.0, 4.0, 4.0, 4.0], [2.0, 4.0, 4.0, 4.0], [2.0, 11.0, 7.0, 7.0], [3.0, 3.0, 4.0, 4.0], [3.0, 2.0, 3.0, 3.0], [0.0, 0.0, 4.0, 5.0], [1.0, 1.0, 3.0, 5.0], [4.0, 1.0, 3.0, 5.0], [1.0, 2.0, 3.0, 5.0], [2.0, 3.0, 3.0, 1.0], [8.0, 3.0, 1.0, 4.0], [6.0, 1.0, 1.0, 2.0], [6.0, 1.0, 1.0, 3.0], [3.0, 3.0, 1.0, 1.0], [6.0, 1.0, 5.0, 1.0], [3.0, 5.0, 3.0, 1.0], [3.0, 1.0, 1.0, 1.0], [3.0, 1.0, 1.0, 1.0], [4.0, 1.0, 1.0, 1.0], [2.0, 2.0, 1.0, 1.0], [1.0, 1.0, 1.0, 3.0], [1.0, 2.0, 1.0, 2.0], [1.0, 3.0, 1.0, 3.0], [1.0, 1.0, 1.0, 2.0], [2.0, 2.0, 1.0, 1.0], [2.0, 1.0, 1.0, 1.0], [1.0, 1.0, 1.0, 1.0], [1.0, 1.0, 1.0, 1.0], [1.0, 1.0, 1.0, 1.0], [1.0, 1.0, 1.0, 1.0], [0.0, 0.0, 0.0, 0.0], [0.0, 0.0, 0.0, 1.0], [0.0, 1.0, 1.0, 1.0], [0.0, 0.0, 1.0, 4.0], [1.0, 3.0, 8.0, 2.0], [2.0, 4.0, 5.0, 3.0], [0.0, 0.0, 1.0, 2.0], [0.0, 0.0, 4.0, 1.0], [3.0, 1.0, 1.0, 1.0], [3.0, 1.0, 2.0, 1.0], [1.0, 2.0, 2.0, 3.0], [3.0, 5.0, 2.0, 4.0], [1.0, 6.0, 1.0, 1.0], [5.0, 4.0, 4.0, 1.0], [5.0, 1.0, 3.0, 1.0], [1.0, 5.0, 1.0, 3.0], [4.0, 3.0, 1.0, 4.0], [1.0, 1.0, 1.0, 1.0], [3.0, 1.0, 1.0, 1.0], [4.0, 1.0, 1.0, 1.0], [4.0, 1.0, 1.0, 1.0], [1.0, 1.0, 1.0, 1.0], [1.0, 2.0, 1.0, 1.0], [3.0, 3.0, 1.0, 2.0], [3.0, 3.0, 1.0, 1.0], [2.0, 2.0, 2.0, 1.0], [1.0, 2.0, 2.0, 1.0], [2.0, 1.0, 2.0, 2.0], [1.0, 1.0, 2.0, 2.0], [1.0, 1.0, 1.0, 1.0], [1.0, 1.0, 1.0, 1.0]]\n"
     ]
    }
   ],
   "source": [
    "print(s[:,2,:,:].flatten(1).gather(1, policy.argsort(1))[:,-4:].tolist())"
   ]
  },
  {
   "cell_type": "code",
   "execution_count": 22,
   "metadata": {},
   "outputs": [
    {
     "data": {
      "image/png": "[encoded data removed]",
      "text/plain": [
       "<Figure size 360x360 with 1 Axes>"
      ]
     },
     "metadata": {
      "needs_background": "light"
     },
     "output_type": "display_data"
    }
   ],
   "source": [
    "sns.displot(s[:,2,:,:].flatten(1).gather(1, policy.argsort(1))[:,-4:].detach().numpy().flatten())\n",
    "plt.show()"
   ]
  },
  {
   "cell_type": "code",
   "execution_count": 23,
   "metadata": {},
   "outputs": [],
   "source": [
    "random_agent = randomAgent()"
   ]
  },
  {
   "cell_type": "code",
   "execution_count": 24,
   "metadata": {},
   "outputs": [],
   "source": [
    "othello = Othello()\n",
    "\n",
    "w_1=0\n",
    "w_2=0\n",
    "draw=0"
   ]
  },
  {
   "cell_type": "code",
   "execution_count": 25,
   "metadata": {
    "collapsed": true
   },
   "outputs": [
    {
     "data": {
      "application/vnd.jupyter.widget-view+json": {
       "model_id": "42b4d7ecfa6c4e4e9f57626f78978dc5",
       "version_major": 2,
       "version_minor": 0
      },
      "text/plain": [
       "HBox(children=(IntProgress(value=0, max=2000), HTML(value='')))"
      ]
     },
     "metadata": {},
     "output_type": "display_data"
    },
    {
     "ename": "KeyboardInterrupt",
     "evalue": "",
     "output_type": "error",
     "traceback": [
      "\u001b[0;31m---------------------------------------------------------------------------\u001b[0m",
      "\u001b[0;31mKeyboardInterrupt\u001b[0m                         Traceback (most recent call last)",
      "\u001b[0;32m<ipython-input-25-b2c0c2cd12e1>\u001b[0m in \u001b[0;36m<module>\u001b[0;34m\u001b[0m\n\u001b[1;32m      3\u001b[0m     \u001b[0;32mwhile\u001b[0m \u001b[0;32mnot\u001b[0m \u001b[0mdone\u001b[0m\u001b[0;34m:\u001b[0m\u001b[0;34m\u001b[0m\u001b[0m\n\u001b[1;32m      4\u001b[0m         \u001b[0;32mif\u001b[0m \u001b[0mothello\u001b[0m\u001b[0;34m.\u001b[0m\u001b[0mcolor\u001b[0m\u001b[0;34m==\u001b[0m\u001b[0;36m1\u001b[0m\u001b[0;34m:\u001b[0m\u001b[0;34m\u001b[0m\u001b[0m\n\u001b[0;32m----> 5\u001b[0;31m             \u001b[0msetrow\u001b[0m\u001b[0;34m,\u001b[0m \u001b[0msetcol\u001b[0m \u001b[0;34m=\u001b[0m \u001b[0magent_1\u001b[0m\u001b[0;34m.\u001b[0m\u001b[0mtake_action\u001b[0m\u001b[0;34m(\u001b[0m\u001b[0mboard\u001b[0m\u001b[0;34m,\u001b[0m \u001b[0mchangeable_Pos\u001b[0m\u001b[0;34m,\u001b[0m \u001b[0mPosition_Row\u001b[0m\u001b[0;34m,\u001b[0m \u001b[0mPosition_Col\u001b[0m\u001b[0;34m,\u001b[0m \u001b[0mChange_Position\u001b[0m\u001b[0;34m)\u001b[0m\u001b[0;34m\u001b[0m\u001b[0m\n\u001b[0m\u001b[1;32m      6\u001b[0m         \u001b[0;32melse\u001b[0m\u001b[0;34m:\u001b[0m\u001b[0;34m\u001b[0m\u001b[0m\n\u001b[1;32m      7\u001b[0m             \u001b[0msetrow\u001b[0m\u001b[0;34m,\u001b[0m \u001b[0msetcol\u001b[0m \u001b[0;34m=\u001b[0m \u001b[0mrandom_agent\u001b[0m\u001b[0;34m.\u001b[0m\u001b[0mtake_action\u001b[0m\u001b[0;34m(\u001b[0m\u001b[0mboard\u001b[0m\u001b[0;34m,\u001b[0m \u001b[0mchangeable_Pos\u001b[0m\u001b[0;34m,\u001b[0m \u001b[0mPosition_Row\u001b[0m\u001b[0;34m,\u001b[0m \u001b[0mPosition_Col\u001b[0m\u001b[0;34m,\u001b[0m \u001b[0mChange_Position\u001b[0m\u001b[0;34m)\u001b[0m\u001b[0;34m\u001b[0m\u001b[0m\n",
      "\u001b[0;32m~/Desktop/プログラミング/pygame/Othello Game/RL/Deep_agent.py\u001b[0m in \u001b[0;36mtake_action\u001b[0;34m(self, board, changeable_Pos, Position_Row, Position_Col, Change_Position)\u001b[0m\n\u001b[1;32m     41\u001b[0m         \u001b[0mstate\u001b[0m \u001b[0;34m=\u001b[0m \u001b[0mgetState\u001b[0m\u001b[0;34m(\u001b[0m\u001b[0mboard\u001b[0m\u001b[0;34m,\u001b[0m \u001b[0mchangeable_Pos\u001b[0m\u001b[0;34m,\u001b[0m \u001b[0mPosition_Row\u001b[0m\u001b[0;34m,\u001b[0m \u001b[0mPosition_Col\u001b[0m\u001b[0;34m,\u001b[0m \u001b[0mChange_Position\u001b[0m\u001b[0;34m)\u001b[0m\u001b[0;34m\u001b[0m\u001b[0m\n\u001b[1;32m     42\u001b[0m         \u001b[0mstate\u001b[0m \u001b[0;34m=\u001b[0m \u001b[0mtorch\u001b[0m\u001b[0;34m.\u001b[0m\u001b[0mFloatTensor\u001b[0m\u001b[0;34m(\u001b[0m\u001b[0;34m[\u001b[0m\u001b[0mstate\u001b[0m\u001b[0;34m]\u001b[0m\u001b[0;34m)\u001b[0m\u001b[0;34m\u001b[0m\u001b[0m\n\u001b[0;32m---> 43\u001b[0;31m         \u001b[0mout\u001b[0m \u001b[0;34m=\u001b[0m \u001b[0mself\u001b[0m\u001b[0;34m.\u001b[0m\u001b[0mmodel\u001b[0m\u001b[0;34m(\u001b[0m\u001b[0mstate\u001b[0m\u001b[0;34m)\u001b[0m\u001b[0;34m\u001b[0m\u001b[0m\n\u001b[0m\u001b[1;32m     44\u001b[0m         \u001b[0mx_2\u001b[0m \u001b[0;34m=\u001b[0m \u001b[0mcopy\u001b[0m\u001b[0;34m.\u001b[0m\u001b[0mdeepcopy\u001b[0m\u001b[0;34m(\u001b[0m\u001b[0mstate\u001b[0m\u001b[0;34m[\u001b[0m\u001b[0;34m:\u001b[0m\u001b[0;34m,\u001b[0m\u001b[0;36m2\u001b[0m\u001b[0;34m,\u001b[0m\u001b[0;34m:\u001b[0m\u001b[0;34m,\u001b[0m\u001b[0;34m:\u001b[0m\u001b[0;34m]\u001b[0m\u001b[0;34m.\u001b[0m\u001b[0mflatten\u001b[0m\u001b[0;34m(\u001b[0m\u001b[0;36m1\u001b[0m\u001b[0;34m)\u001b[0m\u001b[0;34m)\u001b[0m\u001b[0;34m\u001b[0m\u001b[0m\n\u001b[1;32m     45\u001b[0m         \u001b[0msoftmax_func\u001b[0m \u001b[0;34m=\u001b[0m \u001b[0mnn\u001b[0m\u001b[0;34m.\u001b[0m\u001b[0mSoftmax\u001b[0m\u001b[0;34m(\u001b[0m\u001b[0;36m1\u001b[0m\u001b[0;34m)\u001b[0m\u001b[0;34m\u001b[0m\u001b[0m\n",
      "\u001b[0;32m/Library/Frameworks/Python.framework/Versions/3.6/lib/python3.6/site-packages/torch/nn/modules/module.py\u001b[0m in \u001b[0;36m_call_impl\u001b[0;34m(self, *input, **kwargs)\u001b[0m\n\u001b[1;32m    725\u001b[0m             \u001b[0mresult\u001b[0m \u001b[0;34m=\u001b[0m \u001b[0mself\u001b[0m\u001b[0;34m.\u001b[0m\u001b[0m_slow_forward\u001b[0m\u001b[0;34m(\u001b[0m\u001b[0;34m*\u001b[0m\u001b[0minput\u001b[0m\u001b[0;34m,\u001b[0m \u001b[0;34m**\u001b[0m\u001b[0mkwargs\u001b[0m\u001b[0;34m)\u001b[0m\u001b[0;34m\u001b[0m\u001b[0m\n\u001b[1;32m    726\u001b[0m         \u001b[0;32melse\u001b[0m\u001b[0;34m:\u001b[0m\u001b[0;34m\u001b[0m\u001b[0m\n\u001b[0;32m--> 727\u001b[0;31m             \u001b[0mresult\u001b[0m \u001b[0;34m=\u001b[0m \u001b[0mself\u001b[0m\u001b[0;34m.\u001b[0m\u001b[0mforward\u001b[0m\u001b[0;34m(\u001b[0m\u001b[0;34m*\u001b[0m\u001b[0minput\u001b[0m\u001b[0;34m,\u001b[0m \u001b[0;34m**\u001b[0m\u001b[0mkwargs\u001b[0m\u001b[0;34m)\u001b[0m\u001b[0;34m\u001b[0m\u001b[0m\n\u001b[0m\u001b[1;32m    728\u001b[0m         for hook in itertools.chain(\n\u001b[1;32m    729\u001b[0m                 \u001b[0m_global_forward_hooks\u001b[0m\u001b[0;34m.\u001b[0m\u001b[0mvalues\u001b[0m\u001b[0;34m(\u001b[0m\u001b[0;34m)\u001b[0m\u001b[0;34m,\u001b[0m\u001b[0;34m\u001b[0m\u001b[0m\n",
      "\u001b[0;32m~/Desktop/プログラミング/pygame/Othello Game/RL/model.py\u001b[0m in \u001b[0;36mforward\u001b[0;34m(self, x)\u001b[0m\n\u001b[1;32m     82\u001b[0m         \u001b[0mp\u001b[0m\u001b[0;34m[\u001b[0m\u001b[0mx_2\u001b[0m\u001b[0;34m==\u001b[0m\u001b[0;36m0\u001b[0m\u001b[0;34m]\u001b[0m\u001b[0;34m=\u001b[0m\u001b[0;34m-\u001b[0m\u001b[0;36m1e25\u001b[0m\u001b[0;34m\u001b[0m\u001b[0m\n\u001b[1;32m     83\u001b[0m         \u001b[0;31m#p*=p_2.to(torch.int64)\u001b[0m\u001b[0;34m\u001b[0m\u001b[0;34m\u001b[0m\u001b[0m\n\u001b[0;32m---> 84\u001b[0;31m         \u001b[0mv\u001b[0m \u001b[0;34m=\u001b[0m \u001b[0mself\u001b[0m\u001b[0;34m.\u001b[0m\u001b[0mfc_v\u001b[0m\u001b[0;34m(\u001b[0m\u001b[0mx\u001b[0m\u001b[0;34m)\u001b[0m\u001b[0;34m\u001b[0m\u001b[0m\n\u001b[0m\u001b[1;32m     85\u001b[0m         \u001b[0;32mreturn\u001b[0m \u001b[0;34m{\u001b[0m\u001b[0;34m'policy'\u001b[0m\u001b[0;34m:\u001b[0m\u001b[0mp\u001b[0m\u001b[0;34m,\u001b[0m \u001b[0;34m'value'\u001b[0m\u001b[0;34m:\u001b[0m\u001b[0mv\u001b[0m\u001b[0;34m}\u001b[0m\u001b[0;34m\u001b[0m\u001b[0m\n\u001b[1;32m     86\u001b[0m \u001b[0;34m\u001b[0m\u001b[0m\n",
      "\u001b[0;32m/Library/Frameworks/Python.framework/Versions/3.6/lib/python3.6/site-packages/torch/nn/modules/module.py\u001b[0m in \u001b[0;36m_call_impl\u001b[0;34m(self, *input, **kwargs)\u001b[0m\n\u001b[1;32m    725\u001b[0m             \u001b[0mresult\u001b[0m \u001b[0;34m=\u001b[0m \u001b[0mself\u001b[0m\u001b[0;34m.\u001b[0m\u001b[0m_slow_forward\u001b[0m\u001b[0;34m(\u001b[0m\u001b[0;34m*\u001b[0m\u001b[0minput\u001b[0m\u001b[0;34m,\u001b[0m \u001b[0;34m**\u001b[0m\u001b[0mkwargs\u001b[0m\u001b[0;34m)\u001b[0m\u001b[0;34m\u001b[0m\u001b[0m\n\u001b[1;32m    726\u001b[0m         \u001b[0;32melse\u001b[0m\u001b[0;34m:\u001b[0m\u001b[0;34m\u001b[0m\u001b[0m\n\u001b[0;32m--> 727\u001b[0;31m             \u001b[0mresult\u001b[0m \u001b[0;34m=\u001b[0m \u001b[0mself\u001b[0m\u001b[0;34m.\u001b[0m\u001b[0mforward\u001b[0m\u001b[0;34m(\u001b[0m\u001b[0;34m*\u001b[0m\u001b[0minput\u001b[0m\u001b[0;34m,\u001b[0m \u001b[0;34m**\u001b[0m\u001b[0mkwargs\u001b[0m\u001b[0;34m)\u001b[0m\u001b[0;34m\u001b[0m\u001b[0m\n\u001b[0m\u001b[1;32m    728\u001b[0m         for hook in itertools.chain(\n\u001b[1;32m    729\u001b[0m                 \u001b[0m_global_forward_hooks\u001b[0m\u001b[0;34m.\u001b[0m\u001b[0mvalues\u001b[0m\u001b[0;34m(\u001b[0m\u001b[0;34m)\u001b[0m\u001b[0;34m,\u001b[0m\u001b[0;34m\u001b[0m\u001b[0m\n",
      "\u001b[0;32m/Library/Frameworks/Python.framework/Versions/3.6/lib/python3.6/site-packages/torch/nn/modules/container.py\u001b[0m in \u001b[0;36mforward\u001b[0;34m(self, input)\u001b[0m\n\u001b[1;32m    115\u001b[0m     \u001b[0;32mdef\u001b[0m \u001b[0mforward\u001b[0m\u001b[0;34m(\u001b[0m\u001b[0mself\u001b[0m\u001b[0;34m,\u001b[0m \u001b[0minput\u001b[0m\u001b[0;34m)\u001b[0m\u001b[0;34m:\u001b[0m\u001b[0;34m\u001b[0m\u001b[0m\n\u001b[1;32m    116\u001b[0m         \u001b[0;32mfor\u001b[0m \u001b[0mmodule\u001b[0m \u001b[0;32min\u001b[0m \u001b[0mself\u001b[0m\u001b[0;34m:\u001b[0m\u001b[0;34m\u001b[0m\u001b[0m\n\u001b[0;32m--> 117\u001b[0;31m             \u001b[0minput\u001b[0m \u001b[0;34m=\u001b[0m \u001b[0mmodule\u001b[0m\u001b[0;34m(\u001b[0m\u001b[0minput\u001b[0m\u001b[0;34m)\u001b[0m\u001b[0;34m\u001b[0m\u001b[0m\n\u001b[0m\u001b[1;32m    118\u001b[0m         \u001b[0;32mreturn\u001b[0m \u001b[0minput\u001b[0m\u001b[0;34m\u001b[0m\u001b[0m\n\u001b[1;32m    119\u001b[0m \u001b[0;34m\u001b[0m\u001b[0m\n",
      "\u001b[0;32m/Library/Frameworks/Python.framework/Versions/3.6/lib/python3.6/site-packages/torch/nn/modules/module.py\u001b[0m in \u001b[0;36m_call_impl\u001b[0;34m(self, *input, **kwargs)\u001b[0m\n\u001b[1;32m    725\u001b[0m             \u001b[0mresult\u001b[0m \u001b[0;34m=\u001b[0m \u001b[0mself\u001b[0m\u001b[0;34m.\u001b[0m\u001b[0m_slow_forward\u001b[0m\u001b[0;34m(\u001b[0m\u001b[0;34m*\u001b[0m\u001b[0minput\u001b[0m\u001b[0;34m,\u001b[0m \u001b[0;34m**\u001b[0m\u001b[0mkwargs\u001b[0m\u001b[0;34m)\u001b[0m\u001b[0;34m\u001b[0m\u001b[0m\n\u001b[1;32m    726\u001b[0m         \u001b[0;32melse\u001b[0m\u001b[0;34m:\u001b[0m\u001b[0;34m\u001b[0m\u001b[0m\n\u001b[0;32m--> 727\u001b[0;31m             \u001b[0mresult\u001b[0m \u001b[0;34m=\u001b[0m \u001b[0mself\u001b[0m\u001b[0;34m.\u001b[0m\u001b[0mforward\u001b[0m\u001b[0;34m(\u001b[0m\u001b[0;34m*\u001b[0m\u001b[0minput\u001b[0m\u001b[0;34m,\u001b[0m \u001b[0;34m**\u001b[0m\u001b[0mkwargs\u001b[0m\u001b[0;34m)\u001b[0m\u001b[0;34m\u001b[0m\u001b[0m\n\u001b[0m\u001b[1;32m    728\u001b[0m         for hook in itertools.chain(\n\u001b[1;32m    729\u001b[0m                 \u001b[0m_global_forward_hooks\u001b[0m\u001b[0;34m.\u001b[0m\u001b[0mvalues\u001b[0m\u001b[0;34m(\u001b[0m\u001b[0;34m)\u001b[0m\u001b[0;34m,\u001b[0m\u001b[0;34m\u001b[0m\u001b[0m\n",
      "\u001b[0;32m/Library/Frameworks/Python.framework/Versions/3.6/lib/python3.6/site-packages/torch/nn/modules/linear.py\u001b[0m in \u001b[0;36mforward\u001b[0;34m(self, input)\u001b[0m\n\u001b[1;32m     91\u001b[0m \u001b[0;34m\u001b[0m\u001b[0m\n\u001b[1;32m     92\u001b[0m     \u001b[0;32mdef\u001b[0m \u001b[0mforward\u001b[0m\u001b[0;34m(\u001b[0m\u001b[0mself\u001b[0m\u001b[0;34m,\u001b[0m \u001b[0minput\u001b[0m\u001b[0;34m:\u001b[0m \u001b[0mTensor\u001b[0m\u001b[0;34m)\u001b[0m \u001b[0;34m->\u001b[0m \u001b[0mTensor\u001b[0m\u001b[0;34m:\u001b[0m\u001b[0;34m\u001b[0m\u001b[0m\n\u001b[0;32m---> 93\u001b[0;31m         \u001b[0;32mreturn\u001b[0m \u001b[0mF\u001b[0m\u001b[0;34m.\u001b[0m\u001b[0mlinear\u001b[0m\u001b[0;34m(\u001b[0m\u001b[0minput\u001b[0m\u001b[0;34m,\u001b[0m \u001b[0mself\u001b[0m\u001b[0;34m.\u001b[0m\u001b[0mweight\u001b[0m\u001b[0;34m,\u001b[0m \u001b[0mself\u001b[0m\u001b[0;34m.\u001b[0m\u001b[0mbias\u001b[0m\u001b[0;34m)\u001b[0m\u001b[0;34m\u001b[0m\u001b[0m\n\u001b[0m\u001b[1;32m     94\u001b[0m \u001b[0;34m\u001b[0m\u001b[0m\n\u001b[1;32m     95\u001b[0m     \u001b[0;32mdef\u001b[0m \u001b[0mextra_repr\u001b[0m\u001b[0;34m(\u001b[0m\u001b[0mself\u001b[0m\u001b[0;34m)\u001b[0m \u001b[0;34m->\u001b[0m \u001b[0mstr\u001b[0m\u001b[0;34m:\u001b[0m\u001b[0;34m\u001b[0m\u001b[0m\n",
      "\u001b[0;32m/Library/Frameworks/Python.framework/Versions/3.6/lib/python3.6/site-packages/torch/nn/functional.py\u001b[0m in \u001b[0;36mlinear\u001b[0;34m(input, weight, bias)\u001b[0m\n\u001b[1;32m   1688\u001b[0m     \u001b[0;32mif\u001b[0m \u001b[0minput\u001b[0m\u001b[0;34m.\u001b[0m\u001b[0mdim\u001b[0m\u001b[0;34m(\u001b[0m\u001b[0;34m)\u001b[0m \u001b[0;34m==\u001b[0m \u001b[0;36m2\u001b[0m \u001b[0;32mand\u001b[0m \u001b[0mbias\u001b[0m \u001b[0;32mis\u001b[0m \u001b[0;32mnot\u001b[0m \u001b[0;32mNone\u001b[0m\u001b[0;34m:\u001b[0m\u001b[0;34m\u001b[0m\u001b[0m\n\u001b[1;32m   1689\u001b[0m         \u001b[0;31m# fused op is marginally faster\u001b[0m\u001b[0;34m\u001b[0m\u001b[0;34m\u001b[0m\u001b[0m\n\u001b[0;32m-> 1690\u001b[0;31m         \u001b[0mret\u001b[0m \u001b[0;34m=\u001b[0m \u001b[0mtorch\u001b[0m\u001b[0;34m.\u001b[0m\u001b[0maddmm\u001b[0m\u001b[0;34m(\u001b[0m\u001b[0mbias\u001b[0m\u001b[0;34m,\u001b[0m \u001b[0minput\u001b[0m\u001b[0;34m,\u001b[0m \u001b[0mweight\u001b[0m\u001b[0;34m.\u001b[0m\u001b[0mt\u001b[0m\u001b[0;34m(\u001b[0m\u001b[0;34m)\u001b[0m\u001b[0;34m)\u001b[0m\u001b[0;34m\u001b[0m\u001b[0m\n\u001b[0m\u001b[1;32m   1691\u001b[0m     \u001b[0;32melse\u001b[0m\u001b[0;34m:\u001b[0m\u001b[0;34m\u001b[0m\u001b[0m\n\u001b[1;32m   1692\u001b[0m         \u001b[0moutput\u001b[0m \u001b[0;34m=\u001b[0m \u001b[0minput\u001b[0m\u001b[0;34m.\u001b[0m\u001b[0mmatmul\u001b[0m\u001b[0;34m(\u001b[0m\u001b[0mweight\u001b[0m\u001b[0;34m.\u001b[0m\u001b[0mt\u001b[0m\u001b[0;34m(\u001b[0m\u001b[0;34m)\u001b[0m\u001b[0;34m)\u001b[0m\u001b[0;34m\u001b[0m\u001b[0m\n",
      "\u001b[0;31mKeyboardInterrupt\u001b[0m: "
     ]
    }
   ],
   "source": [
    "for _ in tqdm(range(2000)):\n",
    "    board, changeable_Pos, Position_Row, Position_Col, Change_Position, done = othello.make()\n",
    "    while not done:\n",
    "        if othello.color==1:\n",
    "            setrow, setcol = agent_1.take_action(board, changeable_Pos, Position_Row, Position_Col, Change_Position)\n",
    "        else:\n",
    "            setrow, setcol = random_agent.take_action(board, changeable_Pos, Position_Row, Position_Col, Change_Position)\n",
    "        board, changeable_Pos, Position_Row, Position_Col, Change_Position, done = othello.step(setrow, setcol)\n",
    "        if done:\n",
    "            if len(board[board==1])>len(board[board==2]):\n",
    "                w_1+=1\n",
    "            elif len(board[board==1])<len(board[board==2]):\n",
    "                w_2+=1\n",
    "            else:\n",
    "                draw+=1"
   ]
  },
  {
   "cell_type": "code",
   "execution_count": 26,
   "metadata": {},
   "outputs": [
    {
     "name": "stdout",
     "output_type": "stream",
     "text": [
      "115 110 13\n"
     ]
    }
   ],
   "source": [
    "print(w_1,w_2,draw)"
   ]
  },
  {
   "cell_type": "code",
   "execution_count": null,
   "metadata": {},
   "outputs": [],
   "source": []
  },
  {
   "cell_type": "code",
   "execution_count": 58,
   "metadata": {},
   "outputs": [
    {
     "data": {
      "text/plain": [
       "torch.Size([32, 8, 8])"
      ]
     },
     "execution_count": 58,
     "metadata": {},
     "output_type": "execute_result"
    }
   ],
   "source": [
    "a = data_first['states'][:,2,:,:]\n",
    "a.size()"
   ]
  },
  {
   "cell_type": "code",
   "execution_count": 111,
   "metadata": {},
   "outputs": [
    {
     "data": {
      "text/plain": [
       "tensor([[0.0000],\n",
       "        [0.0156],\n",
       "        [0.1719],\n",
       "        [0.2344],\n",
       "        [0.2656],\n",
       "        [0.2500],\n",
       "        [0.2344],\n",
       "        [0.4844],\n",
       "        [0.6875],\n",
       "        [0.5000],\n",
       "        [0.4531],\n",
       "        [0.5469],\n",
       "        [0.6250],\n",
       "        [0.4688],\n",
       "        [0.3906],\n",
       "        [0.3125],\n",
       "        [0.4062],\n",
       "        [0.3125],\n",
       "        [0.4375],\n",
       "        [0.4531],\n",
       "        [0.4688],\n",
       "        [0.4219],\n",
       "        [0.2500],\n",
       "        [0.2812],\n",
       "        [0.2500],\n",
       "        [0.2656],\n",
       "        [0.2344],\n",
       "        [0.1562],\n",
       "        [0.1719],\n",
       "        [0.1250],\n",
       "        [0.1094],\n",
       "        [0.0625]])"
      ]
     },
     "execution_count": 111,
     "metadata": {},
     "output_type": "execute_result"
    }
   ],
   "source": [
    "a.mean(1).mean(1).unsqueeze(1)"
   ]
  },
  {
   "cell_type": "code",
   "execution_count": 112,
   "metadata": {},
   "outputs": [
    {
     "data": {
      "text/plain": [
       "tensor([[0., 0., 0.,  ..., 0., 0., 0.],\n",
       "        [0., 0., 0.,  ..., 0., 0., 0.],\n",
       "        [3., 0., 7.,  ..., 0., 0., 0.],\n",
       "        ...,\n",
       "        [0., 0., 0.,  ..., 0., 0., 0.],\n",
       "        [0., 0., 0.,  ..., 0., 0., 0.],\n",
       "        [0., 0., 0.,  ..., 0., 0., 0.]])"
      ]
     },
     "execution_count": 112,
     "metadata": {},
     "output_type": "execute_result"
    }
   ],
   "source": [
    "a.flatten(1)"
   ]
  },
  {
   "cell_type": "code",
   "execution_count": 90,
   "metadata": {},
   "outputs": [
    {
     "data": {
      "text/plain": [
       "tensor([[ 0.0000,  0.0000,  0.0000,  ...,  0.0000,  0.0000,  0.0000],\n",
       "        [ 0.9688, -0.0312, -0.0312,  ..., -0.0312, -0.0312, -0.0312],\n",
       "        [ 0.9219, -0.0781, -0.0781,  ..., -0.0781, -0.0781, -0.0781],\n",
       "        ...,\n",
       "        [-0.1094, -0.1094, -0.1094,  ..., -0.1094, -0.1094, -0.1094],\n",
       "        [-0.1094, -0.1094, -0.1094,  ..., -0.1094, -0.1094, -0.1094],\n",
       "        [-0.0625, -0.0625, -0.0625,  ..., -0.0625, -0.0625, -0.0625]])"
      ]
     },
     "execution_count": 90,
     "metadata": {},
     "output_type": "execute_result"
    }
   ],
   "source": [
    "a.flatten(1)-a.mean(1).mean(1).unsqueeze(1)"
   ]
  },
  {
   "cell_type": "code",
   "execution_count": 91,
   "metadata": {},
   "outputs": [
    {
     "data": {
      "text/plain": [
       "tensor([[57, 40, 63, 38, 51, 61, 30],\n",
       "        [57, 40, 63, 38, 51, 61, 30],\n",
       "        [57, 40, 63, 38, 51, 61, 30],\n",
       "        [21, 40, 63, 38, 51, 61, 30],\n",
       "        [21, 40, 38, 63, 51, 61, 30],\n",
       "        [21, 40, 38, 63, 51, 61, 30],\n",
       "        [21, 38, 40, 63, 51, 61, 30],\n",
       "        [21, 38, 40, 63, 51, 61, 30],\n",
       "        [21, 38, 40, 63, 51, 61, 30],\n",
       "        [21, 38, 40, 63, 51, 61, 30],\n",
       "        [57, 38, 40, 63, 61, 51, 30],\n",
       "        [21, 38, 40, 63, 51, 61, 30],\n",
       "        [21, 38, 40, 63, 51, 61, 30],\n",
       "        [57, 38, 40, 63, 51, 61, 30],\n",
       "        [21, 38, 40, 63, 51, 61, 30],\n",
       "        [21, 38, 40, 63, 61, 51, 30],\n",
       "        [21, 38, 40, 63, 61, 51, 30],\n",
       "        [21, 38, 40, 63, 51, 61, 30],\n",
       "        [21, 38, 40, 63, 51, 61, 30],\n",
       "        [57, 38, 40, 63, 51, 61, 30],\n",
       "        [57, 40, 38, 63, 51, 61, 30],\n",
       "        [21, 40, 38, 63, 51, 61, 30],\n",
       "        [57, 38, 40, 63, 51, 61, 30],\n",
       "        [21, 38, 40, 63, 61, 51, 30],\n",
       "        [21, 38, 40, 63, 51, 61, 30],\n",
       "        [21, 38, 40, 63, 51, 61, 30],\n",
       "        [21, 38, 40, 51, 63, 61, 30],\n",
       "        [57, 38, 40, 63, 51, 61, 30],\n",
       "        [57, 38, 40, 63, 51, 61, 30],\n",
       "        [57, 40, 38, 63, 51, 61, 30],\n",
       "        [21, 38, 40, 63, 51, 61, 30]])"
      ]
     },
     "execution_count": 91,
     "metadata": {},
     "output_type": "execute_result"
    }
   ],
   "source": [
    "policy.argsort(1)[:,-7:]"
   ]
  },
  {
   "cell_type": "code",
   "execution_count": 57,
   "metadata": {},
   "outputs": [
    {
     "data": {
      "text/plain": [
       "tensor([[-0.1958, -0.1921, -0.1858,  ...,  0.1819,  0.1984,  0.2361],\n",
       "        [-0.1960, -0.1917, -0.1859,  ...,  0.1813,  0.1982,  0.2360],\n",
       "        [-0.2004, -0.1895, -0.1873,  ...,  0.1860,  0.2037,  0.2381],\n",
       "        ...,\n",
       "        [-0.1969, -0.1962, -0.1873,  ...,  0.1881,  0.2025,  0.2423],\n",
       "        [-0.1963, -0.1876, -0.1871,  ...,  0.1904,  0.2055,  0.2425],\n",
       "        [-0.1925, -0.1889, -0.1876,  ...,  0.1913,  0.2038,  0.2407]],\n",
       "       grad_fn=<GatherBackward>)"
      ]
     },
     "execution_count": 57,
     "metadata": {},
     "output_type": "execute_result"
    }
   ],
   "source": [
    "policy.gather(1,policy.argsort(1))"
   ]
  },
  {
   "cell_type": "code",
   "execution_count": 44,
   "metadata": {},
   "outputs": [
    {
     "data": {
      "text/plain": [
       "(tensor([[[0., 0., 0., 0., 0., 0., 0., 0.],\n",
       "          [0., 0., 0., 0., 0., 0., 0., 0.],\n",
       "          [0., 0., 0., 0., 1., 0., 0., 0.],\n",
       "          [0., 0., 0., 1., 1., 0., 0., 0.],\n",
       "          [0., 0., 0., 0., 0., 0., 0., 0.],\n",
       "          [0., 0., 0., 0., 0., 0., 0., 0.],\n",
       "          [0., 0., 0., 0., 0., 0., 0., 0.],\n",
       "          [0., 0., 0., 0., 0., 0., 0., 0.]],\n",
       " \n",
       "         [[0., 0., 0., 0., 0., 0., 0., 0.],\n",
       "          [0., 0., 0., 0., 0., 0., 0., 0.],\n",
       "          [0., 0., 0., 0., 0., 0., 0., 0.],\n",
       "          [0., 0., 0., 0., 0., 0., 0., 0.],\n",
       "          [0., 0., 0., 1., 1., 1., 0., 0.],\n",
       "          [0., 0., 0., 0., 0., 0., 0., 0.],\n",
       "          [0., 0., 0., 0., 0., 0., 0., 0.],\n",
       "          [0., 0., 0., 0., 0., 0., 0., 0.]],\n",
       " \n",
       "         [[0., 0., 0., 0., 0., 0., 0., 0.],\n",
       "          [0., 0., 0., 0., 0., 0., 0., 0.],\n",
       "          [0., 0., 0., 0., 0., 0., 0., 0.],\n",
       "          [0., 0., 0., 0., 0., 0., 0., 0.],\n",
       "          [0., 0., 0., 0., 0., 0., 0., 0.],\n",
       "          [0., 0., 1., 1., 1., 1., 1., 0.],\n",
       "          [0., 0., 0., 0., 0., 0., 0., 0.],\n",
       "          [0., 0., 0., 0., 0., 0., 0., 0.]]]), tensor(20.))"
      ]
     },
     "execution_count": 44,
     "metadata": {},
     "output_type": "execute_result"
    }
   ],
   "source": [
    "data_first[\"states\"][-2],data_first[\"actions\"][-1]"
   ]
  },
  {
   "cell_type": "code",
   "execution_count": 52,
   "metadata": {},
   "outputs": [
    {
     "name": "stdout",
     "output_type": "stream",
     "text": [
      "c\n"
     ]
    },
    {
     "data": {
      "text/plain": [
       "tensor([])"
      ]
     },
     "execution_count": 52,
     "metadata": {},
     "output_type": "execute_result"
    }
   ],
   "source": [
    "a = torch.rand(4)[torch.rand(4)>10]\n",
    "if  torch.isnan(a).all():\n",
    "    print(\"c\")\n",
    "a"
   ]
  },
  {
   "cell_type": "code",
   "execution_count": 33,
   "metadata": {},
   "outputs": [
    {
     "data": {
      "text/plain": [
       "tensor([[0.5473, 0.4527],\n",
       "        [0.6790, 0.3210]])"
      ]
     },
     "execution_count": 33,
     "metadata": {},
     "output_type": "execute_result"
    }
   ],
   "source": [
    "a = torch.distributions.Categorical(torch.rand(2,2))\n",
    "a.probs"
   ]
  },
  {
   "cell_type": "code",
   "execution_count": 31,
   "metadata": {},
   "outputs": [
    {
     "data": {
      "text/plain": [
       "tensor([[6., 0., 0.,  ..., 0., 0., 0.],\n",
       "        [6., 0., 0.,  ..., 0., 0., 0.],\n",
       "        [0., 0., 0.,  ..., 0., 0., 6.],\n",
       "        ...,\n",
       "        [0., 0., 0.,  ..., 0., 0., 0.],\n",
       "        [0., 0., 0.,  ..., 0., 0., 0.],\n",
       "        [0., 0., 0.,  ..., 0., 0., 0.]])"
      ]
     },
     "execution_count": 31,
     "metadata": {},
     "output_type": "execute_result"
    }
   ],
   "source": [
    "data_first[\"states\"][1:,2,:,:].flatten(1)"
   ]
  },
  {
   "cell_type": "code",
   "execution_count": 23,
   "metadata": {},
   "outputs": [
    {
     "data": {
      "text/plain": [
       "(4, 2)"
      ]
     },
     "execution_count": 23,
     "metadata": {},
     "output_type": "execute_result"
    }
   ],
   "source": [
    "34//8, 34%8"
   ]
  },
  {
   "cell_type": "code",
   "execution_count": 7,
   "metadata": {
    "scrolled": true
   },
   "outputs": [
    {
     "name": "stderr",
     "output_type": "stream",
     "text": [
      "100%|██████████| 20/20 [00:00<00:00, 21.64it/s]\n",
      "100%|██████████| 20/20 [00:00<00:00, 26.23it/s]\n",
      "100%|██████████| 20/20 [00:00<00:00, 28.33it/s]\n",
      "100%|██████████| 20/20 [00:00<00:00, 28.24it/s]\n",
      "100%|██████████| 20/20 [00:00<00:00, 23.52it/s]\n",
      "100%|██████████| 20/20 [00:00<00:00, 27.44it/s]\n",
      "100%|██████████| 20/20 [00:00<00:00, 21.32it/s]\n",
      "100%|██████████| 20/20 [00:00<00:00, 26.20it/s]\n",
      "100%|██████████| 20/20 [00:00<00:00, 28.04it/s]\n",
      "100%|██████████| 20/20 [00:00<00:00, 25.28it/s]\n",
      "100%|██████████| 20/20 [00:00<00:00, 21.57it/s]\n",
      "100%|██████████| 20/20 [00:01<00:00, 10.13it/s]\n",
      "100%|██████████| 20/20 [00:01<00:00, 17.32it/s]\n",
      "100%|██████████| 20/20 [00:00<00:00, 20.06it/s]\n",
      "100%|██████████| 20/20 [00:00<00:00, 25.94it/s]\n",
      "100%|██████████| 20/20 [00:00<00:00, 23.13it/s]\n",
      "100%|██████████| 20/20 [00:00<00:00, 27.62it/s]\n",
      "100%|██████████| 20/20 [00:00<00:00, 26.15it/s]\n",
      "100%|██████████| 20/20 [00:00<00:00, 24.53it/s]\n",
      "100%|██████████| 20/20 [00:01<00:00, 17.63it/s]\n",
      "100%|██████████| 20/20 [00:00<00:00, 23.34it/s]\n",
      "100%|██████████| 20/20 [00:01<00:00, 19.53it/s]\n",
      "100%|██████████| 20/20 [00:00<00:00, 26.86it/s]\n",
      "100%|██████████| 20/20 [00:00<00:00, 25.80it/s]\n",
      "100%|██████████| 20/20 [00:00<00:00, 29.52it/s]\n",
      "100%|██████████| 20/20 [00:00<00:00, 28.03it/s]\n",
      "100%|██████████| 20/20 [00:00<00:00, 26.70it/s]\n",
      "100%|██████████| 20/20 [00:00<00:00, 27.40it/s]\n",
      "100%|██████████| 20/20 [00:00<00:00, 26.55it/s]\n",
      "100%|██████████| 20/20 [00:00<00:00, 28.72it/s]\n"
     ]
    }
   ],
   "source": [
    "loss_1_l = []\n",
    "loss_2_l = []\n",
    "loss_3_l = []\n",
    "for i in range(30):\n",
    "    transactions = [get_play_data(agent_1, agent_2)[0] for _ in (range(20))]\n",
    "    if i%3==0:\n",
    "        target_model.load_state_dict(policy_model.state_dict())\n",
    "    loss_1, loss_2, loss_3 = optimize_model(policy_model, target_model, transactions, optimizer)\n",
    "    loss_1_l.append(loss_1)\n",
    "    loss_2_l.append(loss_2)\n",
    "    loss_3_l.append(loss_3)"
   ]
  },
  {
   "cell_type": "code",
   "execution_count": 26,
   "metadata": {},
   "outputs": [
    {
     "data": {
      "image/png": "[encoded data removed]",
      "text/plain": [
       "<Figure size 432x288 with 1 Axes>"
      ]
     },
     "metadata": {
      "needs_background": "light"
     },
     "output_type": "display_data"
    },
    {
     "data": {
      "image/png": "[encoded data removed]",
      "text/plain": [
       "<Figure size 432x288 with 1 Axes>"
      ]
     },
     "metadata": {
      "needs_background": "light"
     },
     "output_type": "display_data"
    },
    {
     "data": {
      "image/png": "[encoded data removed]",
      "text/plain": [
       "<Figure size 432x288 with 1 Axes>"
      ]
     },
     "metadata": {
      "needs_background": "light"
     },
     "output_type": "display_data"
    }
   ],
   "source": [
    "plt.plot(loss_1_l)\n",
    "plt.show()\n",
    "plt.plot(loss_2_l)\n",
    "plt.show()\n",
    "plt.plot(loss_3_l)\n",
    "plt.show()"
   ]
  },
  {
   "cell_type": "code",
   "execution_count": 19,
   "metadata": {},
   "outputs": [],
   "source": [
    "states = transactions[0]['states']\n",
    "policy = policy_model(states)['policy']"
   ]
  },
  {
   "cell_type": "code",
   "execution_count": 20,
   "metadata": {},
   "outputs": [],
   "source": [
    "s = states[:,2,:,:].flatten(1)"
   ]
  },
  {
   "cell_type": "code",
   "execution_count": 21,
   "metadata": {},
   "outputs": [
    {
     "data": {
      "text/plain": [
       "(torch.Size([31, 64]), torch.Size([31, 64]))"
      ]
     },
     "execution_count": 21,
     "metadata": {},
     "output_type": "execute_result"
    }
   ],
   "source": [
    "policy.size(),s.size()"
   ]
  },
  {
   "cell_type": "code",
   "execution_count": 186,
   "metadata": {},
   "outputs": [],
   "source": [
    "out = model(first_states)\n",
    "policy = out[\"policy\"]\n",
    "value = out[\"value\"]"
   ]
  },
  {
   "cell_type": "code",
   "execution_count": 187,
   "metadata": {},
   "outputs": [
    {
     "data": {
      "text/plain": [
       "torch.Size([32, 64])"
      ]
     },
     "execution_count": 187,
     "metadata": {},
     "output_type": "execute_result"
    }
   ],
   "source": [
    "first_states[:,2,:,:].flatten(1).size()"
   ]
  },
  {
   "cell_type": "code",
   "execution_count": 188,
   "metadata": {},
   "outputs": [],
   "source": [
    "def calu_returns(transactions, gamma):\n",
    "    gamma=0.9\n",
    "    returns = deque()\n",
    "\n",
    "    r = transactions[0]\n",
    "    r = r.tolist()\n",
    "    returns.append(r)\n",
    "\n",
    "    for i, r in enumerate(transactions[1:]):\n",
    "        r = r.tolist()\n",
    "        _return = r+gamma*returns[-1]\n",
    "        returns.append(_return)\n",
    "    return torch.FloatTensor(returns)"
   ]
  },
  {
   "cell_type": "code",
   "execution_count": 10,
   "metadata": {},
   "outputs": [],
   "source": []
  },
  {
   "cell_type": "code",
   "execution_count": 191,
   "metadata": {},
   "outputs": [],
   "source": [
    "#first_states[:,2,:,:]"
   ]
  },
  {
   "cell_type": "code",
   "execution_count": 192,
   "metadata": {},
   "outputs": [
    {
     "name": "stdout",
     "output_type": "stream",
     "text": [
      "tensor(0.0075, grad_fn=<AddBackward0>)\n"
     ]
    }
   ],
   "source": [
    "print(calu_othello_loss(policy, first_states))"
   ]
  },
  {
   "cell_type": "code",
   "execution_count": 193,
   "metadata": {
    "scrolled": true
   },
   "outputs": [],
   "source": [
    "first_returns = calu_returns(first_rewards, 0.9)\n",
    "second_returns = calu_returns(second_rewards, 0.9)"
   ]
  },
  {
   "cell_type": "code",
   "execution_count": 195,
   "metadata": {},
   "outputs": [
    {
     "name": "stdout",
     "output_type": "stream",
     "text": [
      "tensor(-1.8985, grad_fn=<MeanBackward0>)\n",
      "tensor(0.1358, grad_fn=<MeanBackward0>)\n",
      "tensor(0.0075, grad_fn=<AddBackward0>)\n"
     ]
    }
   ],
   "source": [
    "td_target_value = calu_td_target_value(value, first_rewards)\n",
    "print(calu_policy_loss(policy, first_actions, value, td_target_value))\n",
    "print(calu_td_value_loss(value, td_target_value))\n",
    "print(calu_othello_loss(policy, first_states))"
   ]
  },
  {
   "cell_type": "code",
   "execution_count": 181,
   "metadata": {},
   "outputs": [
    {
     "data": {
      "text/plain": [
       "torch.Size([9])"
      ]
     },
     "execution_count": 181,
     "metadata": {},
     "output_type": "execute_result"
    }
   ],
   "source": [
    "(td_target_value-value.flatten()[1:]).size()"
   ]
  },
  {
   "cell_type": "code",
   "execution_count": 142,
   "metadata": {},
   "outputs": [
    {
     "data": {
      "text/plain": [
       "tensor([ 0.1916, -0.0019,  0.0846, -0.0150,  0.2206,  0.4516,  0.0081,  0.1287,\n",
       "         0.1400], grad_fn=<SubBackward0>)"
      ]
     },
     "execution_count": 142,
     "metadata": {},
     "output_type": "execute_result"
    }
   ],
   "source": [
    "(td_target_value-value.flatten()[1:])"
   ]
  },
  {
   "cell_type": "code",
   "execution_count": 117,
   "metadata": {},
   "outputs": [
    {
     "data": {
      "text/plain": [
       "tensor([-0.7918,  0.0082, -0.3508,  0.0609, -0.9173, -1.9074, -0.0347, -0.5208,\n",
       "        -0.5720], grad_fn=<MulBackward0>)"
      ]
     },
     "execution_count": 117,
     "metadata": {},
     "output_type": "execute_result"
    }
   ],
   "source": []
  },
  {
   "cell_type": "code",
   "execution_count": 181,
   "metadata": {
    "collapsed": true
   },
   "outputs": [
    {
     "name": "stdout",
     "output_type": "stream",
     "text": [
      "tensor([-0.1433, -0.3086, -0.0491,  0.2047, -0.0419,  0.0357, -0.0113, -0.1363,\n",
      "         0.2031, -0.2606,  0.4776, -0.3875, -0.1418,  0.1633,  0.1334, -0.2816,\n",
      "         0.2821,  0.2436, -0.0273, -0.1021, -0.0542,  0.4434, -0.2900,  0.1250,\n",
      "         0.3784, -0.2369, -0.0857, -0.1326,  0.0399, -0.0073,  0.0085, -0.3751,\n",
      "        -0.2433, -0.1579, -0.1150,  0.1343,  0.0556, -0.0039, -0.0494, -0.3564,\n",
      "         0.4086,  0.2798, -0.0303,  0.1646, -0.1600,  0.1468,  0.0650, -0.0718,\n",
      "         0.0945, -0.0791, -0.2441, -0.2613,  0.0036, -0.0273, -0.2254, -0.0907,\n",
      "        -0.0119, -0.4299,  0.1199, -0.1271,  0.1742,  0.4167, -0.2043,  0.2062],\n",
      "       grad_fn=<UnbindBackward>)\n",
      "tensor([ 0.3352, -0.4085, -0.0261,  0.0625, -0.2373, -0.0718, -0.1644, -0.0255,\n",
      "         0.1892, -0.1003,  0.0806, -0.3567,  0.0252,  0.1796,  0.2442, -0.3232,\n",
      "         0.1725, -0.0366, -0.0127, -0.4247, -0.0587, -0.0267,  0.1076,  0.3166,\n",
      "         0.0377, -0.0889, -0.2642,  0.2273,  0.0524,  0.0524,  0.1362,  0.1660,\n",
      "        -0.1315,  0.2801, -0.4151, -0.1267, -0.0290, -0.0538, -0.2660, -0.3563,\n",
      "         0.0869, -0.1663,  0.0964,  0.1491, -0.1770,  0.3678,  0.1170, -0.1863,\n",
      "         0.2692,  0.2419, -0.2025,  0.0735, -0.1446, -0.1005, -0.1101,  0.1848,\n",
      "         0.2825, -0.0366, -0.2161, -0.0225, -0.2104,  0.3394, -0.0244,  0.3594],\n",
      "       grad_fn=<UnbindBackward>)\n",
      "tensor([ 0.0997, -0.1568,  0.1136,  0.0795, -0.1697,  0.2013, -0.0743, -0.0466,\n",
      "         0.1765, -0.0646,  0.2046, -0.1046, -0.1251,  0.0992,  0.0059, -0.1649,\n",
      "         0.1316,  0.1098, -0.0032,  0.0102,  0.0711,  0.0936, -0.0024,  0.0262,\n",
      "         0.2019, -0.0459,  0.0199, -0.1641,  0.0154, -0.0799, -0.1227, -0.1428,\n",
      "         0.0278, -0.0366, -0.0364, -0.1252,  0.0124, -0.0734, -0.0696, -0.1814,\n",
      "         0.1425,  0.0384, -0.0090,  0.0117, -0.0342,  0.0518,  0.1563, -0.0186,\n",
      "         0.1009, -0.1081,  0.0323,  0.0069, -0.0272,  0.0014,  0.0487,  0.0484,\n",
      "         0.0900, -0.1132,  0.0444, -0.1251,  0.1128,  0.2751, -0.1619,  0.1534],\n",
      "       grad_fn=<UnbindBackward>)\n",
      "tensor([ 0.1951, -0.2236,  0.2457,  0.0910, -0.2080, -0.0484, -0.2699,  0.0059,\n",
      "         0.2486,  0.1655,  0.1131, -0.2804, -0.2711, -0.0580,  0.1040, -0.1613,\n",
      "         0.1556, -0.0162,  0.1610, -0.0889,  0.0212,  0.1829, -0.0342,  0.3543,\n",
      "         0.2280, -0.1899,  0.0161, -0.1033,  0.2029, -0.1156, -0.0955, -0.1772,\n",
      "         0.0453, -0.1453,  0.1399,  0.1101,  0.2844, -0.0924, -0.1252, -0.4052,\n",
      "         0.2796, -0.1156, -0.1617, -0.1314, -0.0224,  0.0308,  0.0750, -0.0659,\n",
      "         0.1001, -0.0371, -0.1787, -0.0506,  0.0860,  0.0655,  0.1637,  0.0228,\n",
      "         0.0749,  0.0590,  0.3014, -0.0344,  0.3499,  0.1460, -0.0658, -0.2907],\n",
      "       grad_fn=<UnbindBackward>)\n",
      "tensor([ 0.0889, -0.2364, -0.0082,  0.0667,  0.0298,  0.2319, -0.1606, -0.1939,\n",
      "         0.1954, -0.1827,  0.4012, -0.0118, -0.1959, -0.0025,  0.0504, -0.0743,\n",
      "         0.1950, -0.1385, -0.0447, -0.1151, -0.0787,  0.2843, -0.1123, -0.1760,\n",
      "         0.2891, -0.0593,  0.2038, -0.3328, -0.0448, -0.1928, -0.1100,  0.1409,\n",
      "        -0.0105, -0.1987,  0.1912, -0.0734,  0.0421, -0.0220, -0.0762, -0.2443,\n",
      "         0.2115, -0.1671,  0.1119, -0.2718, -0.2118, -0.1129,  0.0114, -0.1644,\n",
      "         0.2704,  0.2146,  0.0043,  0.0149,  0.0636, -0.1269,  0.1804, -0.0720,\n",
      "         0.2449, -0.0841, -0.1000, -0.1674,  0.1389,  0.0623, -0.2433,  0.0557],\n",
      "       grad_fn=<UnbindBackward>)\n",
      "tensor([ 0.1742, -0.1009, -0.0725,  0.1001,  0.1028, -0.1069, -0.1559, -0.1858,\n",
      "         0.0499, -0.0785,  0.0341, -0.1287, -0.0603,  0.2778,  0.0957, -0.3797,\n",
      "         0.0877, -0.1369, -0.2680, -0.2952,  0.1396,  0.1641,  0.0144,  0.2111,\n",
      "        -0.2057, -0.0474, -0.1245,  0.1106,  0.0931,  0.1813,  0.0694, -0.1852,\n",
      "        -0.0824,  0.0571, -0.1304, -0.0985, -0.2193,  0.1958, -0.0683, -0.4551,\n",
      "         0.3566, -0.1022,  0.0155,  0.2573, -0.2840,  0.0165,  0.1972, -0.1200,\n",
      "         0.1993,  0.1293, -0.1739,  0.0693, -0.0722, -0.0605,  0.1130,  0.0042,\n",
      "         0.0478, -0.2559, -0.1597,  0.1334,  0.0483,  0.1600,  0.0463,  0.1339],\n",
      "       grad_fn=<UnbindBackward>)\n",
      "tensor([ 0.0302,  0.0810,  0.1373, -0.0681,  0.0790,  0.1942, -0.1030, -0.0526,\n",
      "        -0.0506,  0.0728,  0.2804, -0.1535, -0.0439,  0.2785,  0.0154, -0.2104,\n",
      "         0.3151, -0.2797, -0.0087,  0.0655, -0.1148,  0.1409,  0.1913, -0.2221,\n",
      "        -0.1416,  0.0936, -0.0784, -0.2527, -0.2131, -0.2742, -0.0799, -0.2261,\n",
      "        -0.0276, -0.0145,  0.0493, -0.0213, -0.0697, -0.0582, -0.1592, -0.4280,\n",
      "         0.1753,  0.2580, -0.0721,  0.2172, -0.1378,  0.0065, -0.0533,  0.0762,\n",
      "        -0.1155, -0.4680,  0.0122,  0.1771,  0.0635,  0.3343,  0.1042,  0.1855,\n",
      "         0.1311,  0.0305,  0.2251, -0.2550,  0.1853,  0.2047, -0.2301,  0.1384],\n",
      "       grad_fn=<UnbindBackward>)\n",
      "tensor([ 0.3636, -0.0521,  0.0164, -0.1950, -0.1172,  0.0978, -0.0884, -0.1841,\n",
      "         0.2546, -0.0054,  0.2920, -0.2723, -0.0419,  0.1338,  0.1365, -0.5007,\n",
      "         0.1895,  0.0171, -0.0160, -0.1766,  0.2200,  0.2175,  0.2631,  0.1067,\n",
      "         0.0353,  0.0093, -0.0351, -0.1324, -0.2388,  0.0829, -0.0246,  0.1050,\n",
      "         0.2584, -0.0163, -0.0768,  0.2002, -0.0340,  0.0133, -0.3052, -0.4523,\n",
      "         0.2904, -0.1131,  0.2398, -0.0181, -0.1771,  0.3876,  0.2226, -0.1914,\n",
      "         0.0328,  0.0561,  0.0746,  0.1433, -0.1157,  0.0624, -0.1552, -0.0081,\n",
      "         0.2953, -0.3631,  0.0725, -0.0644,  0.0934, -0.0154, -0.3517,  0.0484],\n",
      "       grad_fn=<UnbindBackward>)\n",
      "tensor([ 0.0380, -0.1030,  0.3478, -0.1231, -0.2417,  0.1405, -0.3114,  0.1954,\n",
      "         0.2906,  0.1405,  0.3756, -0.3890,  0.0888,  0.1229,  0.3324, -0.2204,\n",
      "         0.3249, -0.0681,  0.0063, -0.1824, -0.2052,  0.0810,  0.0155,  0.0513,\n",
      "         0.2401, -0.0963, -0.0043, -0.2675,  0.2189, -0.2110, -0.0357,  0.0460,\n",
      "         0.0997, -0.3935,  0.0072, -0.1400,  0.0111,  0.0592, -0.2266, -0.2863,\n",
      "         0.1562, -0.1714,  0.1183,  0.0297, -0.0923, -0.0220,  0.2127,  0.1845,\n",
      "         0.1519,  0.0059, -0.1267,  0.0462,  0.2196, -0.1516,  0.0891,  0.0495,\n",
      "         0.1990,  0.1288,  0.1918, -0.2520,  0.0247,  0.2331, -0.3065,  0.1083],\n",
      "       grad_fn=<UnbindBackward>)\n",
      "tensor([ 1.7601e-01, -1.5439e-01,  2.8080e-01,  5.4372e-02, -4.8993e-02,\n",
      "         9.5083e-02,  6.0140e-02, -4.8220e-01,  1.8492e-01, -2.4501e-01,\n",
      "         4.4647e-01, -4.2190e-01,  1.4550e-01,  8.8694e-02,  4.9699e-02,\n",
      "         8.0573e-02,  9.1729e-02,  4.9988e-04, -6.6424e-02, -6.3079e-02,\n",
      "        -2.2749e-02,  3.5205e-01, -8.7495e-02, -1.6918e-01,  3.4414e-01,\n",
      "        -1.2770e-01, -9.2213e-02, -4.1914e-01, -2.5960e-01, -2.3553e-01,\n",
      "         9.8852e-04, -3.9041e-02, -9.2684e-03,  1.7848e-01,  3.0253e-01,\n",
      "         5.5276e-02,  1.8837e-01, -1.9816e-01, -2.8166e-01, -2.8120e-01,\n",
      "        -7.4439e-02,  3.1002e-01,  1.5396e-02, -1.1340e-01, -8.1935e-02,\n",
      "         1.7610e-01,  2.9331e-01,  4.3619e-05, -1.5626e-01, -1.1555e-01,\n",
      "         1.3065e-01,  9.4702e-02,  9.9896e-02,  3.0674e-01, -1.9446e-01,\n",
      "         2.8980e-01, -1.0141e-01, -2.3525e-01,  6.5125e-02, -1.1223e-01,\n",
      "         8.1916e-02,  3.9873e-01, -3.5973e-01,  8.6762e-02],\n",
      "       grad_fn=<UnbindBackward>)\n",
      "tensor([ 1.4038e-01, -3.4567e-01, -1.9321e-04, -2.4250e-01,  9.7243e-02,\n",
      "         1.5984e-01, -3.1139e-01, -5.0219e-01,  9.1875e-02, -2.4913e-01,\n",
      "         3.2901e-01, -3.6768e-01, -1.3792e-02,  1.7291e-01,  2.1131e-01,\n",
      "        -4.1225e-01,  3.7018e-01,  8.0882e-02, -5.9322e-02, -3.9792e-01,\n",
      "        -1.9326e-02,  1.1539e-01, -9.5404e-02,  7.7944e-02,  2.0180e-02,\n",
      "         1.1885e-01, -2.3015e-01,  2.8144e-01,  5.7728e-02,  6.2321e-03,\n",
      "         9.1439e-02, -6.5336e-02,  1.3671e-01,  1.5364e-02, -2.5689e-01,\n",
      "         2.4074e-02,  5.8250e-02, -3.4591e-02, -4.5950e-01, -4.1170e-01,\n",
      "         4.0917e-01, -1.7259e-01,  4.4191e-03, -1.3411e-01, -2.3724e-01,\n",
      "        -4.1570e-02,  1.0435e-01,  1.6130e-01, -3.9444e-02, -2.6076e-01,\n",
      "        -1.4897e-01,  3.6728e-01, -6.7664e-02,  1.1587e-01, -3.8816e-02,\n",
      "         2.4721e-01,  3.7890e-01, -1.4441e-01,  9.3125e-03, -1.4250e-01,\n",
      "        -1.1632e-01,  4.1717e-01,  7.5554e-02,  1.7503e-01],\n",
      "       grad_fn=<UnbindBackward>)\n",
      "tensor([ 0.0670, -0.0329,  0.1515,  0.0542, -0.1976,  0.0705,  0.0031, -0.0091,\n",
      "         0.0918, -0.0760,  0.3125, -0.1052, -0.0864,  0.1516, -0.1023, -0.1156,\n",
      "         0.0995, -0.0357, -0.0049, -0.1132, -0.0336,  0.1339,  0.0170, -0.1802,\n",
      "         0.0890, -0.1142,  0.1057, -0.2704, -0.0187, -0.0417,  0.1179, -0.0242,\n",
      "         0.0925, -0.0220,  0.1132, -0.0856,  0.0104, -0.0366,  0.0328, -0.2650,\n",
      "         0.1817, -0.0007,  0.1167,  0.0377,  0.0041,  0.1556,  0.0813, -0.1070,\n",
      "         0.0350,  0.1003, -0.0110, -0.0852,  0.2354, -0.0029, -0.0916,  0.0215,\n",
      "         0.0649, -0.1377, -0.0827, -0.0793,  0.0429,  0.1459, -0.2215,  0.1282],\n",
      "       grad_fn=<UnbindBackward>)\n",
      "tensor([ 0.0908, -0.3416,  0.0709, -0.0102, -0.1250,  0.2286, -0.2675, -0.2663,\n",
      "         0.1986, -0.3553,  0.4731, -0.1085, -0.0663,  0.2081,  0.1554, -0.1984,\n",
      "         0.0964,  0.0317,  0.0642, -0.2640, -0.0384,  0.3057, -0.0064,  0.0531,\n",
      "         0.0542, -0.0898,  0.0093, -0.1994,  0.1028, -0.0335, -0.1031,  0.0420,\n",
      "        -0.0718,  0.1273, -0.1930, -0.0260, -0.0046,  0.2354, -0.0686, -0.3672,\n",
      "         0.0894, -0.1702, -0.1606,  0.0665, -0.3026,  0.1251,  0.1575, -0.0124,\n",
      "        -0.0977, -0.0929, -0.1246,  0.0952,  0.1540,  0.1204,  0.0920,  0.0903,\n",
      "         0.2793, -0.0321, -0.1510, -0.0757,  0.1693,  0.4899,  0.0080,  0.1926],\n",
      "       grad_fn=<UnbindBackward>)\n",
      "tensor([ 0.1678, -0.0912,  0.1079, -0.1277, -0.1040,  0.1176, -0.1102, -0.2017,\n",
      "        -0.0343,  0.1091,  0.3160, -0.3315, -0.1997,  0.0173, -0.2633, -0.2269,\n",
      "         0.2835,  0.0102,  0.0747, -0.2054, -0.2960, -0.0028, -0.1339, -0.1534,\n",
      "         0.2354,  0.1028, -0.1355, -0.1646,  0.0800, -0.1327,  0.1135, -0.2484,\n",
      "        -0.1192,  0.0309, -0.1610, -0.0937, -0.2870, -0.1882, -0.0434, -0.2127,\n",
      "         0.2810,  0.3277,  0.0570, -0.0485, -0.1345, -0.1627, -0.0816,  0.1100,\n",
      "         0.0678, -0.0998,  0.0835,  0.1303,  0.0144, -0.1897,  0.1172,  0.0948,\n",
      "         0.0191, -0.2616,  0.3301, -0.3500, -0.0393,  0.2637, -0.2884,  0.1284],\n",
      "       grad_fn=<UnbindBackward>)\n",
      "tensor([ 0.4422, -0.1634,  0.0172, -0.2100,  0.0674,  0.0405, -0.0878, -0.2423,\n",
      "         0.2779, -0.1173,  0.2649, -0.2010, -0.1250,  0.0731,  0.0982, -0.2026,\n",
      "         0.2823, -0.0278, -0.0100, -0.3899, -0.0876,  0.0342,  0.1098,  0.0456,\n",
      "         0.0465,  0.1242, -0.3217,  0.1019,  0.0357, -0.1539,  0.1646, -0.1392,\n",
      "         0.1767,  0.1177, -0.1679, -0.0439,  0.0301, -0.0704, -0.3550, -0.1026,\n",
      "         0.2762, -0.0091,  0.0597, -0.1490,  0.0964,  0.0413, -0.0764,  0.1022,\n",
      "         0.0978, -0.0716, -0.0081,  0.3758,  0.1666, -0.1315,  0.1191,  0.2324,\n",
      "         0.2898, -0.1091,  0.1838, -0.2884, -0.1728,  0.3339,  0.0879,  0.3691],\n",
      "       grad_fn=<UnbindBackward>)\n",
      "tensor([ 0.1642, -0.1876,  0.1108, -0.1159, -0.0019,  0.1493, -0.1802, -0.1832,\n",
      "         0.1069, -0.0224,  0.1532, -0.2188, -0.0518,  0.2763,  0.1756, -0.2305,\n",
      "         0.0416,  0.1087,  0.1450, -0.0824, -0.0580, -0.0450,  0.0128, -0.0218,\n",
      "        -0.0824, -0.1687, -0.1774, -0.1376, -0.1348, -0.1786, -0.0592, -0.0387,\n",
      "         0.1982, -0.1796, -0.1883, -0.0337, -0.1623,  0.0662, -0.2224, -0.5841,\n",
      "         0.2165, -0.0924, -0.1138,  0.3650, -0.3405,  0.1166,  0.1717, -0.0405,\n",
      "         0.0755, -0.2187, -0.0839,  0.0565, -0.2160,  0.0229, -0.1756, -0.0576,\n",
      "         0.2297, -0.1004,  0.0732,  0.1074,  0.1101,  0.3777, -0.2127,  0.2043],\n",
      "       grad_fn=<UnbindBackward>)\n",
      "tensor([ 0.2648,  0.0290, -0.0434, -0.0627, -0.1300,  0.1356,  0.0753, -0.0175,\n",
      "         0.1846, -0.0542,  0.2948, -0.2784, -0.0554,  0.0385, -0.0548, -0.2234,\n",
      "         0.1721, -0.0686,  0.0052, -0.0943,  0.0906,  0.1424,  0.1041,  0.1472,\n",
      "         0.1571, -0.0552, -0.0155, -0.0642, -0.0552,  0.0373,  0.1292,  0.0494,\n",
      "         0.0528,  0.0123, -0.0052, -0.0122, -0.0370, -0.0520, -0.0794, -0.1736,\n",
      "         0.2204, -0.0431,  0.1668, -0.0018,  0.0680,  0.2121,  0.0933, -0.0410,\n",
      "         0.0179, -0.0478, -0.0443,  0.0055,  0.0390,  0.0145,  0.0100, -0.0227,\n",
      "         0.1469, -0.1492, -0.0103, -0.2154, -0.1063,  0.0968, -0.2715,  0.1320],\n",
      "       grad_fn=<UnbindBackward>)\n",
      "tensor([ 0.2233, -0.1641,  0.4754, -0.2837, -0.0799,  0.0623, -0.1955, -0.1868,\n",
      "        -0.0655,  0.1940,  0.4226, -0.1994, -0.1111,  0.3233,  0.2680, -0.0423,\n",
      "         0.2122, -0.2568,  0.0939, -0.1849, -0.0930,  0.2939,  0.0535, -0.0234,\n",
      "         0.1162, -0.0320, -0.0772, -0.2771,  0.1806, -0.1862, -0.0167,  0.0653,\n",
      "         0.1825, -0.2275,  0.0333, -0.1085,  0.1284, -0.0486, -0.3181, -0.3843,\n",
      "         0.1942,  0.1093,  0.0631,  0.0054, -0.0472,  0.0809,  0.0460,  0.0523,\n",
      "         0.2741, -0.3765, -0.1024,  0.3394,  0.1814,  0.0566,  0.1196,  0.0703,\n",
      "         0.1083,  0.0329,  0.0319, -0.1953,  0.0069,  0.1309, -0.4000, -0.1969],\n",
      "       grad_fn=<UnbindBackward>)\n",
      "tensor([ 2.2658e-02, -1.4939e-01,  2.5816e-01, -3.0062e-01,  7.9437e-02,\n",
      "         8.9451e-02, -2.5247e-01, -2.3259e-01, -2.9027e-02,  2.4110e-02,\n",
      "         9.3605e-02, -2.9788e-01, -1.7953e-01,  2.9424e-01,  3.3490e-01,\n",
      "        -2.3611e-01,  3.2355e-01,  2.1916e-01,  1.8576e-02, -8.7171e-02,\n",
      "        -1.0101e-01,  3.6741e-02,  7.9383e-02, -6.0594e-02,  6.3030e-02,\n",
      "        -3.6511e-01,  5.8533e-02, -1.9798e-02, -1.0660e-01,  3.1400e-02,\n",
      "         1.0572e-01, -3.1308e-01,  2.4553e-01, -1.1271e-01, -8.4595e-02,\n",
      "         1.0187e-01, -1.2138e-01, -2.7418e-01, -2.1233e-01, -2.7774e-01,\n",
      "         2.1795e-01, -5.0133e-02,  1.2075e-01,  2.0530e-01, -3.2601e-01,\n",
      "         1.5497e-01, -1.1501e-01,  1.8882e-02,  2.3969e-01, -8.4655e-02,\n",
      "         1.0598e-05,  2.6738e-01,  9.6212e-02,  1.5543e-01, -2.6324e-01,\n",
      "        -3.7418e-02,  1.7922e-01, -1.1308e-01,  2.0537e-01, -3.3997e-02,\n",
      "        -1.7366e-01,  4.6752e-01, -8.4534e-02,  2.6224e-01],\n",
      "       grad_fn=<UnbindBackward>)\n",
      "tensor([ 0.0917, -0.3712,  0.0057,  0.0673, -0.3299, -0.1128, -0.3187, -0.0286,\n",
      "         0.1566,  0.1042, -0.0420, -0.0924, -0.3408, -0.0067,  0.1295, -0.2144,\n",
      "         0.1030,  0.0396,  0.1214, -0.2533,  0.0364,  0.1452,  0.0920,  0.2090,\n",
      "         0.1773, -0.3319, -0.1840,  0.0333,  0.0655,  0.0133,  0.1179, -0.1591,\n",
      "         0.0919,  0.0440, -0.1334,  0.0708,  0.1863, -0.1451, -0.0962, -0.4633,\n",
      "         0.4423, -0.0733, -0.0685,  0.0586, -0.0724,  0.1732,  0.1876, -0.4303,\n",
      "         0.2186,  0.2069, -0.0496,  0.0589, -0.0540,  0.0281, -0.0183,  0.1471,\n",
      "         0.1300, -0.1453, -0.0412,  0.1919,  0.1331,  0.0639,  0.1141, -0.0068],\n",
      "       grad_fn=<UnbindBackward>)\n",
      "tensor([ 1.0315e-01, -1.3193e-01, -7.2798e-04,  6.3755e-02,  1.3520e-03,\n",
      "         1.1219e-01, -5.8303e-02, -8.1959e-02,  2.3038e-01, -1.1836e-01,\n",
      "         2.7703e-01, -2.3233e-01, -6.3913e-02,  2.2660e-01,  1.7435e-01,\n",
      "        -2.6090e-01,  2.3313e-01,  7.4322e-02, -1.5445e-01, -1.6953e-01,\n",
      "         8.6340e-03,  9.0680e-02, -8.0349e-03,  2.7977e-05,  6.2749e-02,\n",
      "         2.2294e-02,  4.1024e-03, -1.5470e-01,  3.5583e-02, -2.1422e-02,\n",
      "         1.9291e-02, -1.1257e-01,  4.4624e-02, -1.1576e-01, -5.0449e-02,\n",
      "        -9.7237e-02, -7.2400e-02, -5.2365e-02, -1.8622e-01, -1.7294e-01,\n",
      "         1.9804e-01, -8.3395e-02,  1.2121e-01, -2.3626e-02, -1.3842e-01,\n",
      "        -1.1390e-02,  1.3084e-01,  8.7452e-02,  9.8309e-02,  6.1422e-02,\n",
      "         1.8519e-02,  6.8839e-02,  5.6801e-02, -1.2779e-01, -1.3215e-02,\n",
      "        -5.3473e-02,  1.2061e-01, -1.2230e-01,  1.6051e-02, -7.5094e-02,\n",
      "        -6.2210e-02,  2.1449e-01, -1.1918e-01,  2.8041e-01],\n",
      "       grad_fn=<UnbindBackward>)\n",
      "tensor([ 0.2280, -0.0297,  0.1878, -0.4047,  0.1695,  0.3895, -0.0971, -0.2228,\n",
      "         0.0832,  0.2324,  0.2317, -0.3278, -0.0209,  0.2433,  0.2768, -0.3878,\n",
      "         0.1144,  0.0587,  0.0589, -0.1593,  0.0633, -0.0942,  0.0980, -0.1186,\n",
      "        -0.1289, -0.0918, -0.3407, -0.0809, -0.1836, -0.2348, -0.1306, -0.0889,\n",
      "         0.2967, -0.0285, -0.3015, -0.0068, -0.3019, -0.0599, -0.5173, -0.4822,\n",
      "         0.0709,  0.1366,  0.0546,  0.0259, -0.3434,  0.0328,  0.1973,  0.0795,\n",
      "         0.0560, -0.2874,  0.1422,  0.5850, -0.2870,  0.0758, -0.0194,  0.3765,\n",
      "         0.2169,  0.1305,  0.2571, -0.2099, -0.1313,  0.2057, -0.2464,  0.1357],\n",
      "       grad_fn=<UnbindBackward>)\n",
      "tensor([ 0.1899, -0.0293,  0.1811,  0.1157, -0.0716,  0.1059, -0.0859, -0.0689,\n",
      "         0.1564,  0.0611,  0.0925, -0.0863, -0.0517,  0.1299,  0.0565, -0.2224,\n",
      "         0.1114,  0.0175,  0.1196, -0.0127,  0.0348,  0.0312,  0.0770,  0.1227,\n",
      "         0.0385, -0.1131, -0.0294, -0.1042, -0.0610, -0.1636,  0.0359, -0.2174,\n",
      "         0.1146, -0.0386, -0.0324, -0.0771,  0.0707, -0.1159, -0.1732, -0.1817,\n",
      "         0.1359,  0.0043,  0.0050,  0.0629, -0.0326,  0.1976,  0.1519,  0.0119,\n",
      "         0.1112, -0.1145, -0.0244,  0.1120,  0.0567,  0.1943,  0.0353,  0.1496,\n",
      "         0.1253,  0.0586,  0.0176, -0.0691,  0.0339,  0.2424, -0.0431,  0.2526],\n",
      "       grad_fn=<UnbindBackward>)\n",
      "tensor([-0.0719, -0.3530,  0.1196, -0.0476,  0.1202,  0.1770, -0.1478, -0.2966,\n",
      "         0.0463, -0.0216,  0.2606, -0.3123, -0.2683,  0.1510,  0.2090, -0.3400,\n",
      "         0.2621,  0.2542, -0.0747, -0.0936,  0.0014,  0.2251, -0.0791,  0.0196,\n",
      "         0.1209, -0.0212, -0.0254, -0.0698, -0.0835,  0.1304, -0.1771, -0.1977,\n",
      "        -0.1054,  0.0147, -0.1611,  0.1919, -0.0693, -0.3075, -0.3666, -0.3821,\n",
      "         0.2976,  0.0523, -0.1131, -0.2302, -0.3020, -0.0332,  0.0680, -0.0212,\n",
      "         0.0710,  0.2018, -0.0524,  0.2415,  0.0048,  0.0106, -0.0308,  0.1370,\n",
      "         0.0526, -0.3623,  0.1080, -0.1286, -0.0311,  0.3694,  0.0373,  0.1660],\n",
      "       grad_fn=<UnbindBackward>)\n",
      "tensor([ 0.0643, -0.0768,  0.0391,  0.2020, -0.0425, -0.0301, -0.3103,  0.0272,\n",
      "         0.3675,  0.0647,  0.0542, -0.3345, -0.1747, -0.1106,  0.3488, -0.0968,\n",
      "         0.1531,  0.1332, -0.1187, -0.2742, -0.1032,  0.0849, -0.1639,  0.0627,\n",
      "         0.2886, -0.2532, -0.0118,  0.0209,  0.1248, -0.0783,  0.0052, -0.1313,\n",
      "        -0.0140, -0.0397,  0.0008, -0.1443,  0.1482, -0.0579, -0.0579, -0.2253,\n",
      "         0.2309, -0.0891, -0.0581,  0.0794, -0.0463,  0.0212,  0.2003, -0.0754,\n",
      "         0.1820,  0.2441, -0.2158, -0.0485, -0.0123,  0.0321,  0.0084,  0.2363,\n",
      "         0.1635,  0.0402,  0.0853, -0.1305, -0.0747,  0.3241, -0.1596,  0.1939],\n",
      "       grad_fn=<UnbindBackward>)\n",
      "tensor([ 0.1204,  0.0032, -0.0502,  0.0679,  0.0394, -0.0632,  0.0207, -0.0318,\n",
      "         0.2447, -0.0454,  0.0323, -0.1483, -0.0772,  0.2059,  0.1864, -0.1586,\n",
      "        -0.0328, -0.0137, -0.0759, -0.1502, -0.0107, -0.0569, -0.0667,  0.0980,\n",
      "         0.0698, -0.2371,  0.0402,  0.0027, -0.0924,  0.0899,  0.1094, -0.1080,\n",
      "         0.0942,  0.0391, -0.0367,  0.0077, -0.0620,  0.0557, -0.1425, -0.2163,\n",
      "         0.1936, -0.0519,  0.0308,  0.2175, -0.0047,  0.0410,  0.1917, -0.0524,\n",
      "         0.0661,  0.1695, -0.1310, -0.1089, -0.0304,  0.0193,  0.0413, -0.0429,\n",
      "         0.1120, -0.1071,  0.0313, -0.1347,  0.0066,  0.1271, -0.1061,  0.1162],\n",
      "       grad_fn=<UnbindBackward>)\n",
      "tensor([ 0.1091, -0.1806,  0.0924,  0.0865,  0.2244,  0.1239, -0.2590, -0.4364,\n",
      "         0.3028,  0.0880,  0.2428, -0.3863, -0.1810,  0.0858,  0.2186, -0.3092,\n",
      "        -0.0180,  0.1548, -0.3012, -0.0382, -0.0122,  0.0022, -0.0654, -0.0669,\n",
      "         0.0783,  0.0456, -0.0259, -0.1292, -0.1660, -0.1585, -0.1337, -0.1999,\n",
      "         0.0825,  0.1054, -0.0207, -0.0034,  0.1010, -0.5114, -0.3327, -0.3582,\n",
      "         0.1233,  0.0564, -0.0774, -0.4023, -0.2154, -0.1327,  0.0287, -0.0463,\n",
      "         0.0085,  0.2382,  0.0539,  0.2991,  0.1315, -0.0044, -0.0881,  0.0374,\n",
      "         0.1531, -0.3305,  0.0810,  0.0476, -0.0065,  0.6425,  0.0720,  0.4814],\n",
      "       grad_fn=<UnbindBackward>)\n",
      "tensor([ 0.2170, -0.0142,  0.0837,  0.1181, -0.0099, -0.0321, -0.0327, -0.0571,\n",
      "         0.1001, -0.1088,  0.3020, -0.2088, -0.1789, -0.0185, -0.0949,  0.0155,\n",
      "         0.3088, -0.1787, -0.0550, -0.1377, -0.0214,  0.2920, -0.0099,  0.1157,\n",
      "         0.2185,  0.0357, -0.0586, -0.0601,  0.0053, -0.0893,  0.0526, -0.1528,\n",
      "        -0.1331,  0.0489,  0.0153, -0.1104,  0.0932, -0.0978,  0.0716, -0.1779,\n",
      "         0.2103, -0.0326, -0.0349,  0.0779,  0.0920,  0.1083, -0.1211, -0.0101,\n",
      "         0.2708, -0.1593, -0.1628, -0.1050,  0.1665,  0.0211,  0.2041,  0.0677,\n",
      "        -0.0871, -0.0897,  0.1015, -0.0815, -0.0778,  0.1965, -0.2183,  0.0148],\n",
      "       grad_fn=<UnbindBackward>)\n",
      "tensor([ 0.2678, -0.1532,  0.2366, -0.2613, -0.0963,  0.1960, -0.0496, -0.2930,\n",
      "         0.2896, -0.0475,  0.4640, -0.0460, -0.0670,  0.0607,  0.0807,  0.0079,\n",
      "        -0.1209, -0.0795, -0.0111, -0.0779, -0.1468,  0.2933, -0.0390, -0.0326,\n",
      "         0.1442, -0.0975, -0.0569, -0.2180,  0.3199, -0.1082,  0.0174,  0.0488,\n",
      "         0.0832, -0.1554, -0.1571,  0.0359, -0.0162,  0.1005, -0.2356, -0.2088,\n",
      "         0.2335,  0.0834, -0.0307, -0.0095,  0.0801,  0.1011,  0.1673,  0.1509,\n",
      "        -0.1300, -0.1021, -0.0558,  0.3328,  0.1697,  0.0374,  0.2765,  0.1606,\n",
      "        -0.0605, -0.2105,  0.1886, -0.2909,  0.1729,  0.2464, -0.3967, -0.0518],\n",
      "       grad_fn=<UnbindBackward>)\n",
      "tensor([ 0.2155, -0.1580,  0.0072, -0.0196, -0.0857, -0.0263, -0.1534,  0.0440,\n",
      "         0.1888,  0.0675, -0.0463, -0.4168, -0.1220,  0.1252,  0.2533, -0.2968,\n",
      "         0.2621,  0.0451,  0.0402, -0.3582, -0.0459,  0.0452,  0.0197,  0.0928,\n",
      "        -0.0373, -0.2021, -0.2037,  0.0299, -0.0693,  0.0196, -0.0044, -0.1209,\n",
      "        -0.0321,  0.0522, -0.3930, -0.0038, -0.0465, -0.1172, -0.2687, -0.3438,\n",
      "         0.0605, -0.0350, -0.0142,  0.2180, -0.1780,  0.2464,  0.1164,  0.0497,\n",
      "         0.1997,  0.1000, -0.1787,  0.1669, -0.2539, -0.0834, -0.1181,  0.1403,\n",
      "         0.2617, -0.1832,  0.0041,  0.0421, -0.2583,  0.4082, -0.1302,  0.3672],\n",
      "       grad_fn=<UnbindBackward>)\n",
      "tensor([ 0.0306, -0.1620,  0.1423,  0.0762, -0.1177,  0.1152, -0.1675, -0.0645,\n",
      "         0.0957, -0.0697,  0.1551, -0.1650, -0.0920,  0.0194, -0.0064, -0.0074,\n",
      "         0.0398, -0.0677,  0.0959, -0.0077, -0.0285,  0.1981, -0.1420,  0.0664,\n",
      "         0.2420, -0.1306,  0.0497, -0.1299,  0.0174, -0.1017, -0.0540,  0.0279,\n",
      "        -0.0787, -0.1459, -0.1114, -0.1055,  0.1575, -0.1001, -0.0180, -0.1597,\n",
      "         0.0996, -0.1930, -0.0601, -0.0051, -0.0894,  0.0413,  0.1946,  0.0375,\n",
      "         0.2330,  0.0963, -0.1515,  0.1079,  0.0281,  0.1300,  0.1213,  0.0620,\n",
      "         0.0881, -0.0469, -0.1946, -0.0817, -0.1179,  0.1882, -0.2416,  0.0738],\n",
      "       grad_fn=<UnbindBackward>)\n",
      "tensor([0.0034], grad_fn=<UnbindBackward>)\n",
      "tensor([-0.4097], grad_fn=<UnbindBackward>)\n",
      "tensor([-0.0696], grad_fn=<UnbindBackward>)\n",
      "tensor([0.2395], grad_fn=<UnbindBackward>)\n",
      "tensor([0.2063], grad_fn=<UnbindBackward>)\n",
      "tensor([0.1409], grad_fn=<UnbindBackward>)\n",
      "tensor([0.0319], grad_fn=<UnbindBackward>)\n",
      "tensor([-0.0449], grad_fn=<UnbindBackward>)\n",
      "tensor([0.0618], grad_fn=<UnbindBackward>)\n",
      "tensor([0.0325], grad_fn=<UnbindBackward>)\n",
      "tensor([0.1211], grad_fn=<UnbindBackward>)\n",
      "tensor([0.0657], grad_fn=<UnbindBackward>)\n",
      "tensor([0.1270], grad_fn=<UnbindBackward>)\n",
      "tensor([0.0225], grad_fn=<UnbindBackward>)\n",
      "tensor([0.0244], grad_fn=<UnbindBackward>)\n",
      "tensor([-0.1180], grad_fn=<UnbindBackward>)\n",
      "tensor([0.0138], grad_fn=<UnbindBackward>)\n",
      "tensor([-0.0185], grad_fn=<UnbindBackward>)\n",
      "tensor([0.0054], grad_fn=<UnbindBackward>)\n",
      "tensor([-0.0713], grad_fn=<UnbindBackward>)\n",
      "tensor([-0.0192], grad_fn=<UnbindBackward>)\n",
      "tensor([0.0642], grad_fn=<UnbindBackward>)\n",
      "tensor([0.0425], grad_fn=<UnbindBackward>)\n",
      "tensor([-0.0134], grad_fn=<UnbindBackward>)\n",
      "tensor([-0.0467], grad_fn=<UnbindBackward>)\n",
      "tensor([-0.0617], grad_fn=<UnbindBackward>)\n",
      "tensor([-0.1361], grad_fn=<UnbindBackward>)\n",
      "tensor([0.2789], grad_fn=<UnbindBackward>)\n",
      "tensor([-0.1044], grad_fn=<UnbindBackward>)\n",
      "tensor([0.0289], grad_fn=<UnbindBackward>)\n",
      "tensor([0.0564], grad_fn=<UnbindBackward>)\n"
     ]
    }
   ],
   "source": [
    "for p in out['policy']:\n",
    "    print(p)\n",
    "    \n",
    "for v in out['value']:\n",
    "    print(v)"
   ]
  },
  {
   "cell_type": "code",
   "execution_count": 160,
   "metadata": {
    "collapsed": true
   },
   "outputs": [
    {
     "data": {
      "text/plain": [
       "tensor([[-7.5877e-03],\n",
       "        [ 1.0154e-01],\n",
       "        [ 6.2535e-03],\n",
       "        [ 8.5554e-02],\n",
       "        [ 3.5614e-01],\n",
       "        [ 1.4319e-01],\n",
       "        [-6.1794e-02],\n",
       "        [ 1.5533e-02],\n",
       "        [ 5.6916e-02],\n",
       "        [-1.2189e-03],\n",
       "        [-3.4378e-03],\n",
       "        [ 1.9341e-01],\n",
       "        [-2.2364e-01],\n",
       "        [ 2.6067e-02],\n",
       "        [-9.4526e-02],\n",
       "        [-7.8299e-02],\n",
       "        [-1.3736e-01],\n",
       "        [ 1.9306e-02],\n",
       "        [-1.1456e-01],\n",
       "        [-1.3760e-02],\n",
       "        [ 4.4889e-01],\n",
       "        [ 3.4894e-02],\n",
       "        [ 4.4454e-02],\n",
       "        [ 3.9229e-04],\n",
       "        [ 1.1723e-01],\n",
       "        [-2.1249e-02],\n",
       "        [ 5.0183e-02],\n",
       "        [ 1.4693e-03],\n",
       "        [-4.9482e-02],\n",
       "        [ 3.7538e-02],\n",
       "        [ 2.1007e-01],\n",
       "        [ 1.9705e-02]], grad_fn=<AddmmBackward>)"
      ]
     },
     "execution_count": 160,
     "metadata": {},
     "output_type": "execute_result"
    }
   ],
   "source": [
    "out['value']"
   ]
  },
  {
   "cell_type": "code",
   "execution_count": 158,
   "metadata": {},
   "outputs": [
    {
     "data": {
      "text/plain": [
       "(tensor(11.5000), tensor(19.7812))"
      ]
     },
     "execution_count": 158,
     "metadata": {},
     "output_type": "execute_result"
    }
   ],
   "source": [
    "first_rewards.sum(), second_rewards.sum()"
   ]
  },
  {
   "cell_type": "code",
   "execution_count": 157,
   "metadata": {},
   "outputs": [
    {
     "data": {
      "text/plain": [
       "(tensor([0.0938, 0.0938, 0.0625, 0.0938, 0.0625, 0.0938, 0.0938, 0.1562, 0.1562,\n",
       "         0.1250, 0.1250, 0.2188, 0.1562, 0.1875, 0.2500, 0.2188, 0.1875, 0.1562,\n",
       "         0.1250, 0.2188, 0.2812, 0.4375, 0.5312, 0.5938, 0.7812, 0.7812, 0.9062,\n",
       "         1.0000, 1.0000, 1.0312, 1.2812]),\n",
       " tensor([0.0625, 0.1250, 0.1875, 0.2500, 0.3125, 0.3750, 0.3750, 0.3750, 0.4688,\n",
       "         0.5938, 0.5938, 0.5938, 0.7188, 0.7188, 0.7500, 0.8125, 0.9688, 1.0312,\n",
       "         1.0625, 1.0000, 0.9688, 0.9688, 0.9375, 0.8125, 0.7500, 0.8125, 0.8438,\n",
       "         0.7188, 0.8750, 0.7188]))"
      ]
     },
     "execution_count": 157,
     "metadata": {},
     "output_type": "execute_result"
    }
   ],
   "source": [
    "first_rewards, second_rewards"
   ]
  },
  {
   "cell_type": "code",
   "execution_count": 143,
   "metadata": {},
   "outputs": [
    {
     "data": {
      "text/plain": [
       "tensor([-0.0000, -0.0011, -0.0044, -0.0100, -0.0178, -0.0278, -0.0400, -0.0544,\n",
       "        -0.0711, -0.0900, -0.1111, -0.1344, -0.1600, -0.1878, -0.2178, -0.2500,\n",
       "        -0.2844, -0.3211, -0.3600, -0.4011, -0.4444, -0.4900, -0.5378, -0.5878,\n",
       "        -0.6400, -0.6944, -0.7511, -0.8100, -0.8711, -0.9344, -1.0000])"
      ]
     },
     "execution_count": 143,
     "metadata": {},
     "output_type": "execute_result"
    }
   ],
   "source": [
    "first_values"
   ]
  },
  {
   "cell_type": "code",
   "execution_count": 99,
   "metadata": {},
   "outputs": [
    {
     "data": {
      "text/plain": [
       "(35, 29)"
      ]
     },
     "execution_count": 99,
     "metadata": {},
     "output_type": "execute_result"
    }
   ],
   "source": [
    "len(board[board==1]), len(board[board==2])"
   ]
  },
  {
   "cell_type": "code",
   "execution_count": 55,
   "metadata": {},
   "outputs": [],
   "source": [
    "#reward and action num are state_num-1"
   ]
  },
  {
   "cell_type": "code",
   "execution_count": 22,
   "metadata": {},
   "outputs": [
    {
     "data": {
      "text/plain": [
       "(True, 2, 61)"
      ]
     },
     "execution_count": 22,
     "metadata": {},
     "output_type": "execute_result"
    }
   ],
   "source": [
    "done, othello.color, othello.num_step"
   ]
  },
  {
   "cell_type": "code",
   "execution_count": 23,
   "metadata": {},
   "outputs": [
    {
     "data": {
      "image/png": "[encoded data removed]",
      "text/plain": [
       "<Figure size 432x288 with 1 Axes>"
      ]
     },
     "metadata": {
      "needs_background": "light"
     },
     "output_type": "display_data"
    }
   ],
   "source": [
    "x = np.arange(0,32)\n",
    "y = (x)**2/(x.max())**2\n",
    "plt.plot(x, y)\n",
    "plt.show()"
   ]
  },
  {
   "cell_type": "code",
   "execution_count": 24,
   "metadata": {
    "scrolled": true
   },
   "outputs": [],
   "source": [
    "out_x = model(first_states)"
   ]
  },
  {
   "cell_type": "code",
   "execution_count": 25,
   "metadata": {},
   "outputs": [],
   "source": [
    "x_2 = first_states[:,2,:,:]\n",
    "policy = out_x['policy']"
   ]
  },
  {
   "cell_type": "code",
   "execution_count": 26,
   "metadata": {
    "scrolled": true
   },
   "outputs": [
    {
     "data": {
      "text/plain": [
       "torch.Size([30, 64])"
      ]
     },
     "execution_count": 26,
     "metadata": {},
     "output_type": "execute_result"
    }
   ],
   "source": [
    "policy[:-1,:].size()"
   ]
  },
  {
   "cell_type": "code",
   "execution_count": 27,
   "metadata": {},
   "outputs": [
    {
     "data": {
      "text/plain": [
       "(torch.Size([30]),\n",
       " torch.Size([31, 64]),\n",
       " tensor([43., 17., 20., 42., 21., 59., 33., 14., 41., 19., 31., 13.,  3., 45.,\n",
       "         15.,  4., 22., 24., 50., 54., 40., 37.,  1., 58., 16., 55., 52.,  0.,\n",
       "          6., 56.]))"
      ]
     },
     "execution_count": 27,
     "metadata": {},
     "output_type": "execute_result"
    }
   ],
   "source": [
    "first_actions.size(), policy.size(), first_actions"
   ]
  },
  {
   "cell_type": "code",
   "execution_count": 135,
   "metadata": {
    "scrolled": true
   },
   "outputs": [],
   "source": [
    "i=0\n",
    "for p in policy:\n",
    "    #a = int(first_actions[i])\n",
    "    #print(p[a])\n",
    "    i+=1"
   ]
  },
  {
   "cell_type": "code",
   "execution_count": 136,
   "metadata": {},
   "outputs": [],
   "source": [
    "#torch.gather(policy, 1,first_actions.to(torch.int64).reshape(-1,1))"
   ]
  },
  {
   "cell_type": "code",
   "execution_count": 137,
   "metadata": {},
   "outputs": [
    {
     "data": {
      "text/plain": [
       "torch.Size([1742])"
      ]
     },
     "execution_count": 137,
     "metadata": {},
     "output_type": "execute_result"
    }
   ],
   "source": [
    "x_2[x_2==0].size()"
   ]
  },
  {
   "cell_type": "code",
   "execution_count": 138,
   "metadata": {},
   "outputs": [
    {
     "data": {
      "text/plain": [
       "tensor([-13.6725,  -1.8027, -10.5650,  ...,  -0.4125,  -1.1987,   1.1237],\n",
       "       grad_fn=<IndexBackward>)"
      ]
     },
     "execution_count": 138,
     "metadata": {},
     "output_type": "execute_result"
    }
   ],
   "source": [
    "policy[x_2.flatten(1)==0]"
   ]
  },
  {
   "cell_type": "code",
   "execution_count": 139,
   "metadata": {},
   "outputs": [
    {
     "data": {
      "text/plain": [
       "(torch.Size([31, 64]), torch.Size([31, 1]))"
      ]
     },
     "execution_count": 139,
     "metadata": {},
     "output_type": "execute_result"
    }
   ],
   "source": [
    "out_x['policy'].size(), out_x['value'].size()"
   ]
  },
  {
   "cell_type": "code",
   "execution_count": 140,
   "metadata": {},
   "outputs": [
    {
     "data": {
      "text/plain": [
       "tensor([[-29.3239, -17.4541, -26.2164,  ..., -24.4874, -19.4835, -28.2653],\n",
       "        [-25.2876,  -8.1405, -24.6962,  ..., -26.0127, -16.9873, -29.0492],\n",
       "        [-28.0255, -13.8862, -24.6423,  ..., -21.7940, -13.2426, -26.1142],\n",
       "        ...,\n",
       "        [-10.4909,  -4.4472,  -9.5018,  ...,  -8.0709,  -3.2448,  -9.2331],\n",
       "        [ -6.6633,  -3.2358,  -6.4610,  ...,  -5.8358,  -3.0276,  -6.3845],\n",
       "        [ -5.9357,  -4.0014,  -5.8276,  ...,  -5.1272,  -2.8048,  -5.3968]],\n",
       "       grad_fn=<LogSoftmaxBackward>)"
      ]
     },
     "execution_count": 140,
     "metadata": {},
     "output_type": "execute_result"
    }
   ],
   "source": [
    "nn.LogSoftmax(dim=1)(out_x['policy'])"
   ]
  },
  {
   "cell_type": "code",
   "execution_count": null,
   "metadata": {},
   "outputs": [],
   "source": []
  },
  {
   "cell_type": "code",
   "execution_count": 141,
   "metadata": {},
   "outputs": [
    {
     "data": {
      "text/plain": [
       "(47, 17)"
      ]
     },
     "execution_count": 141,
     "metadata": {},
     "output_type": "execute_result"
    }
   ],
   "source": [
    "len(board[board==1]), len(board[board==2])"
   ]
  },
  {
   "cell_type": "code",
   "execution_count": null,
   "metadata": {},
   "outputs": [],
   "source": []
  },
  {
   "cell_type": "code",
   "execution_count": 187,
   "metadata": {},
   "outputs": [],
   "source": [
    "\n"
   ]
  },
  {
   "cell_type": "code",
   "execution_count": 188,
   "metadata": {},
   "outputs": [
    {
     "data": {
      "text/plain": [
       "tensor(10.)"
      ]
     },
     "execution_count": 188,
     "metadata": {},
     "output_type": "execute_result"
    }
   ],
   "source": [
    "states[:,2,:,:].flatten(1).max()"
   ]
  },
  {
   "cell_type": "code",
   "execution_count": 207,
   "metadata": {},
   "outputs": [
    {
     "data": {
      "application/vnd.jupyter.widget-view+json": {
       "model_id": "4ccb60ff6d4e4ec1aaa059928daea05c",
       "version_major": 2,
       "version_minor": 0
      },
      "text/plain": [
       "HBox(children=(IntProgress(value=0, max=500), HTML(value='')))"
      ]
     },
     "metadata": {},
     "output_type": "display_data"
    },
    {
     "name": "stdout",
     "output_type": "stream",
     "text": [
      "\n"
     ]
    }
   ],
   "source": [
    "\n",
    "loss_l = []\n",
    "model = Model(3)\n",
    "optim = torch.optim.Adam(model.parameters(), lr=0.001)\n",
    "for _ in tqdm(range(500)):\n",
    "    model = model.eval()\n",
    "    out = model(states)\n",
    "    #policy = nn.Softmax(dim=1)(out['policy'])\n",
    "    policy = nn.Sigmoid()(out['policy'])\n",
    "    \n",
    "    label = copy.deepcopy(states[:,2,:,:])\n",
    "    label = label.flatten(1)\n",
    "    label[label>0]=1\n",
    "    \n",
    "    loss = 0.05*((label-policy)**2).mean()\n",
    "    optim.zero_grad()\n",
    "    loss.backward()\n",
    "    loss_l.append(loss.item())\n",
    "    optim.step()"
   ]
  },
  {
   "cell_type": "code",
   "execution_count": 208,
   "metadata": {},
   "outputs": [
    {
     "data": {
      "text/plain": [
       "[<matplotlib.lines.Line2D at 0x13b274780>]"
      ]
     },
     "execution_count": 208,
     "metadata": {},
     "output_type": "execute_result"
    },
    {
     "data": {
      "image/png": "[encoded data removed]",
      "text/plain": [
       "<Figure size 432x288 with 1 Axes>"
      ]
     },
     "metadata": {
      "needs_background": "light"
     },
     "output_type": "display_data"
    }
   ],
   "source": [
    "plt.plot(loss_l)"
   ]
  },
  {
   "cell_type": "code",
   "execution_count": 209,
   "metadata": {},
   "outputs": [
    {
     "data": {
      "text/plain": [
       "tensor(1.)"
      ]
     },
     "execution_count": 209,
     "metadata": {},
     "output_type": "execute_result"
    }
   ],
   "source": [
    "label.max()"
   ]
  },
  {
   "cell_type": "code",
   "execution_count": 210,
   "metadata": {},
   "outputs": [
    {
     "data": {
      "text/plain": [
       "torch.return_types.max(\n",
       "values=tensor([0.9479, 0.9906, 0.9179, 0.9848, 0.9979, 0.9224, 0.9885, 0.9964, 1.0000,\n",
       "        0.9994, 1.0000, 1.0000, 1.0000, 0.9995, 1.0000, 1.0000, 1.0000, 1.0000,\n",
       "        1.0000, 1.0000, 1.0000, 0.9998, 1.0000, 1.0000, 1.0000, 1.0000, 0.9999,\n",
       "        0.9997, 1.0000, 0.9995, 1.0000, 1.0000, 1.0000, 0.9995, 1.0000, 0.9848,\n",
       "        1.0000, 0.9828, 1.0000, 0.9628, 1.0000, 0.9675, 1.0000, 0.0871, 1.0000,\n",
       "        0.8312, 1.0000, 0.9058, 1.0000, 0.9920, 0.9995, 0.9912, 1.0000, 0.9789,\n",
       "        1.0000, 0.6480, 0.9998, 0.8519, 0.8997, 0.3360, 0.3596, 0.3185],\n",
       "       grad_fn=<MaxBackward0>),\n",
       "indices=tensor([20, 42, 20, 42, 34, 21, 42, 18, 33, 44, 33, 44, 33, 18, 30, 42, 33, 42,\n",
       "        30, 42, 33, 21, 33, 61, 33, 38, 30, 11, 30, 33, 30, 30, 30, 33, 30, 18,\n",
       "        30, 18, 30, 18, 30, 18, 30, 18, 30, 61, 61, 61, 61, 55, 61, 55, 61, 55,\n",
       "        61,  5, 61, 31, 61, 63, 63, 63]))"
      ]
     },
     "execution_count": 210,
     "metadata": {},
     "output_type": "execute_result"
    }
   ],
   "source": [
    "policy.max(1)"
   ]
  },
  {
   "cell_type": "code",
   "execution_count": 211,
   "metadata": {},
   "outputs": [],
   "source": [
    "a = copy.deepcopy(states[:,2,:,:])\n",
    "a = a.flatten(1)"
   ]
  },
  {
   "cell_type": "code",
   "execution_count": 212,
   "metadata": {},
   "outputs": [
    {
     "data": {
      "text/plain": [
       "torch.return_types.max(\n",
       "values=tensor([ 1.,  1.,  1.,  2.,  2.,  2.,  3.,  3.,  3.,  1.,  3.,  1.,  3.,  1.,\n",
       "         4.,  2.,  4.,  1.,  2.,  3.,  2.,  2.,  4.,  3.,  5.,  5.,  3.,  3.,\n",
       "         5.,  2.,  5.,  3.,  5.,  2.,  7.,  2.,  7.,  2.,  9.,  2.,  9.,  1.,\n",
       "         8.,  6., 10.,  2.,  8.,  3.,  9.,  1.,  9.,  2.,  9.,  1.,  7.,  1.,\n",
       "         6.,  2.,  9.,  0.,  1.,  0.]),\n",
       "indices=tensor([20, 26, 17, 51, 29,  8, 59, 25, 15,  8, 15,  1, 15,  1, 37, 52, 61,  1,\n",
       "        15, 40, 15, 11, 33, 57, 33, 53, 33,  1,  0, 18,  0, 39,  0, 33, 54, 12,\n",
       "        54, 33, 46, 13, 46,  4, 46,  9, 54, 21, 30, 46, 47, 15, 47, 30, 47,  5,\n",
       "        47,  5, 47, 31, 61,  0, 63,  0]))"
      ]
     },
     "execution_count": 212,
     "metadata": {},
     "output_type": "execute_result"
    }
   ],
   "source": [
    "a.max(1)"
   ]
  },
  {
   "cell_type": "code",
   "execution_count": 213,
   "metadata": {},
   "outputs": [
    {
     "data": {
      "text/plain": [
       "tensor([[ 0.,  0.,  0.,  0.,  0.,  0.,  0.,  0.,  1.,  1.],\n",
       "        [ 0.,  0.,  0.,  0.,  0.,  0.,  0.,  0.,  1.,  1.],\n",
       "        [ 0.,  0.,  0.,  0.,  0.,  0.,  0.,  1.,  1.,  1.],\n",
       "        [ 0.,  0.,  0.,  0.,  0.,  0.,  0.,  0.,  1.,  1.],\n",
       "        [ 0.,  0.,  0.,  0.,  0.,  1.,  1.,  1.,  1.,  1.],\n",
       "        [ 0.,  0.,  0.,  0.,  0.,  0.,  0.,  0.,  0.,  1.],\n",
       "        [ 0.,  0.,  0.,  0.,  0.,  0.,  0.,  0.,  2.,  1.],\n",
       "        [ 0.,  0.,  0.,  0.,  0.,  0.,  1.,  1.,  1.,  1.],\n",
       "        [ 0.,  0.,  0.,  0.,  0.,  1.,  1.,  1.,  3.,  1.],\n",
       "        [ 0.,  0.,  1.,  1.,  1.,  1.,  1.,  1.,  1.,  1.],\n",
       "        [ 0.,  1.,  1.,  2.,  1.,  2.,  1.,  3.,  1.,  1.],\n",
       "        [ 0.,  0.,  1.,  1.,  1.,  1.,  1.,  1.,  1.,  1.],\n",
       "        [ 1.,  2.,  1.,  2.,  3.,  2.,  1.,  2.,  2.,  1.],\n",
       "        [ 0.,  0.,  1.,  1.,  1.,  1.,  1.,  0.,  1.,  1.],\n",
       "        [ 0.,  1.,  3.,  2.,  1.,  1.,  4.,  1.,  1.,  2.],\n",
       "        [ 0.,  2.,  1.,  1.,  1.,  1.,  0.,  1.,  1.,  1.],\n",
       "        [ 0.,  0.,  1.,  2.,  2.,  2.,  1.,  1.,  2.,  1.],\n",
       "        [ 0.,  0.,  1.,  1.,  1.,  1.,  1.,  1.,  1.,  0.],\n",
       "        [ 0.,  1.,  1.,  1.,  2.,  2.,  2.,  1.,  2.,  2.],\n",
       "        [ 0.,  0.,  0.,  3.,  1.,  1.,  1.,  1.,  1.,  1.],\n",
       "        [ 0.,  0.,  0.,  1.,  1.,  2.,  2.,  1.,  2.,  0.],\n",
       "        [ 0.,  0.,  2.,  2.,  1.,  2.,  1.,  2.,  1.,  1.],\n",
       "        [ 0.,  0.,  0.,  1.,  1.,  2.,  2.,  2.,  1.,  4.],\n",
       "        [ 1.,  3.,  1.,  1.,  1.,  2.,  1.,  2.,  2.,  2.],\n",
       "        [ 0.,  0.,  0.,  0.,  1.,  1.,  2.,  1.,  3.,  5.],\n",
       "        [ 0.,  2.,  1.,  1.,  1.,  2.,  1.,  5.,  1.,  2.],\n",
       "        [ 0.,  1.,  3.,  2.,  2.,  2.,  3.,  2.,  1.,  1.],\n",
       "        [ 0.,  0.,  0.,  3.,  2.,  1.,  2.,  1.,  1.,  2.],\n",
       "        [ 2.,  2.,  2.,  5.,  1.,  1.,  1.,  3.,  4.,  2.],\n",
       "        [ 0.,  0.,  0.,  0.,  0.,  0.,  0.,  2.,  2.,  2.],\n",
       "        [ 1.,  1.,  2.,  5.,  1.,  2.,  1.,  4.,  3.,  2.],\n",
       "        [ 0.,  0.,  0.,  0.,  0.,  2.,  1.,  2.,  2.,  1.],\n",
       "        [ 0.,  2.,  1.,  4.,  5.,  2.,  1.,  5.,  3.,  2.],\n",
       "        [ 0.,  0.,  0.,  0.,  0.,  0.,  0.,  2.,  1.,  2.],\n",
       "        [ 0.,  0.,  1.,  5.,  2.,  1.,  7.,  4.,  3.,  2.],\n",
       "        [ 0.,  0.,  0.,  0.,  0.,  0.,  0.,  0.,  2.,  1.],\n",
       "        [ 0.,  0.,  1.,  1.,  5.,  7.,  2.,  4.,  3.,  2.],\n",
       "        [ 0.,  0.,  0.,  0.,  0.,  0.,  0.,  0.,  2.,  1.],\n",
       "        [ 0.,  0.,  4.,  1.,  5.,  3.,  7.,  4.,  9.,  2.],\n",
       "        [ 0.,  0.,  0.,  0.,  0.,  0.,  0.,  0.,  1.,  1.],\n",
       "        [ 3.,  1.,  1.,  4.,  3.,  5.,  5.,  9.,  4.,  5.],\n",
       "        [ 0.,  0.,  0.,  0.,  0.,  0.,  0.,  0.,  1.,  1.],\n",
       "        [ 1.,  5.,  1.,  2.,  5.,  4.,  7.,  8.,  2.,  4.],\n",
       "        [ 0.,  0.,  0.,  0.,  0.,  0.,  0.,  0.,  0.,  0.],\n",
       "        [ 1.,  6.,  3.,  4.,  1., 10.,  2.,  6.,  2.,  5.],\n",
       "        [ 0.,  0.,  0.,  0.,  0.,  0.,  0.,  0.,  0.,  1.],\n",
       "        [ 2.,  3.,  5.,  6.,  5.,  7.,  7.,  4.,  8.,  2.],\n",
       "        [ 0.,  0.,  0.,  0.,  0.,  0.,  0.,  0.,  2.,  2.],\n",
       "        [ 7.,  5.,  3.,  4.,  2.,  2.,  4.,  8.,  9.,  2.],\n",
       "        [ 0.,  0.,  0.,  0.,  0.,  0.,  0.,  1.,  1.,  1.],\n",
       "        [ 0.,  0.,  2.,  2.,  5.,  3.,  2.,  3.,  9.,  6.],\n",
       "        [ 0.,  0.,  0.,  0.,  0.,  0.,  0.,  1.,  2.,  1.],\n",
       "        [ 0.,  0.,  0.,  2.,  2.,  3.,  2.,  3.,  9.,  2.],\n",
       "        [ 0.,  0.,  0.,  0.,  0.,  0.,  0.,  1.,  1.,  1.],\n",
       "        [ 0.,  0.,  0.,  0.,  2.,  1.,  2.,  4.,  7.,  2.],\n",
       "        [ 0.,  0.,  0.,  0.,  0.,  0.,  0.,  0.,  0.,  1.],\n",
       "        [ 0.,  0.,  0.,  0.,  0.,  0.,  2.,  6.,  4.,  6.],\n",
       "        [ 0.,  0.,  0.,  0.,  0.,  0.,  0.,  0.,  0.,  2.],\n",
       "        [ 0.,  0.,  0.,  0.,  0.,  0.,  0.,  0.,  3.,  9.],\n",
       "        [ 0.,  0.,  0.,  0.,  0.,  0.,  0.,  0.,  0.,  0.],\n",
       "        [ 0.,  0.,  0.,  0.,  0.,  0.,  0.,  0.,  0.,  1.],\n",
       "        [ 0.,  0.,  0.,  0.,  0.,  0.,  0.,  0.,  0.,  0.]])"
      ]
     },
     "execution_count": 213,
     "metadata": {},
     "output_type": "execute_result"
    }
   ],
   "source": [
    "a.gather(1,policy.argsort())[:,-10:]"
   ]
  },
  {
   "cell_type": "code",
   "execution_count": 214,
   "metadata": {},
   "outputs": [
    {
     "data": {
      "text/plain": [
       "tensor([[1.],\n",
       "        [1.],\n",
       "        [1.],\n",
       "        [1.],\n",
       "        [1.],\n",
       "        [1.],\n",
       "        [1.],\n",
       "        [1.],\n",
       "        [1.],\n",
       "        [1.],\n",
       "        [1.],\n",
       "        [1.],\n",
       "        [1.],\n",
       "        [1.],\n",
       "        [2.],\n",
       "        [1.],\n",
       "        [1.],\n",
       "        [0.],\n",
       "        [2.],\n",
       "        [1.],\n",
       "        [0.],\n",
       "        [1.],\n",
       "        [4.],\n",
       "        [2.],\n",
       "        [5.],\n",
       "        [2.],\n",
       "        [1.],\n",
       "        [2.],\n",
       "        [2.],\n",
       "        [2.],\n",
       "        [2.],\n",
       "        [1.],\n",
       "        [2.],\n",
       "        [2.],\n",
       "        [2.],\n",
       "        [1.],\n",
       "        [2.],\n",
       "        [1.],\n",
       "        [2.],\n",
       "        [1.],\n",
       "        [5.],\n",
       "        [1.],\n",
       "        [4.],\n",
       "        [0.],\n",
       "        [5.],\n",
       "        [1.],\n",
       "        [2.],\n",
       "        [2.],\n",
       "        [2.],\n",
       "        [1.],\n",
       "        [6.],\n",
       "        [1.],\n",
       "        [2.],\n",
       "        [1.],\n",
       "        [2.],\n",
       "        [1.],\n",
       "        [6.],\n",
       "        [2.],\n",
       "        [9.],\n",
       "        [0.],\n",
       "        [1.],\n",
       "        [0.]])"
      ]
     },
     "execution_count": 214,
     "metadata": {},
     "output_type": "execute_result"
    }
   ],
   "source": [
    "a.gather(1,policy.max(1)[1].reshape(-1,1))"
   ]
  },
  {
   "cell_type": "code",
   "execution_count": null,
   "metadata": {},
   "outputs": [],
   "source": []
  }
 ],
 "metadata": {
  "kernelspec": {
   "display_name": "Python 3",
   "language": "python",
   "name": "python3"
  },
  "language_info": {
   "codemirror_mode": {
    "name": "ipython",
    "version": 3
   },
   "file_extension": ".py",
   "mimetype": "text/x-python",
   "name": "python",
   "nbconvert_exporter": "python",
   "pygments_lexer": "ipython3",
   "version": "3.6.5"
  }
 },
 "nbformat": 4,
 "nbformat_minor": 2
}
